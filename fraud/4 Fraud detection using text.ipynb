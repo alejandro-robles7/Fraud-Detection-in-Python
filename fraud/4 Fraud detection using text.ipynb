{
 "cells": [
  {
   "cell_type": "markdown",
   "metadata": {
    "collapsed": true,
    "pycharm": {
     "name": "#%% md\n"
    }
   },
   "source": [
    "# Fraud detection using text\n",
    "In this final chapter, you will use text data, text mining and topic modeling to detect fraudulent behavior."
   ]
  },
  {
   "cell_type": "markdown",
   "metadata": {
    "pycharm": {
     "name": "#%% md\n"
    }
   },
   "source": [
    "## Word search with dataframes\n",
    "In this exercise you're going to work with text data, containing emails from Enron employees. The Enron scandal is a famous fraud case. Enron employees covered up the bad financial position of the company, thereby keeping the stock price artificially high. Enron employees sold their own stock options, and when the truth came out, Enron investors were left with nothing. The goal is to find all emails that mention specific words, such as \"sell enron stock\"."
   ]
  },
  {
   "cell_type": "code",
   "execution_count": 1,
   "metadata": {
    "pycharm": {
     "name": "#%%\n"
    }
   },
   "outputs": [
    {
     "name": "stdout",
     "output_type": "stream",
     "text": [
      "                           From                          To  \\\n",
      "154  ('sarah.palmer@enron.com')  ('sarah.palmer@enron.com')   \n",
      "\n",
      "                    Date                                            content  \\\n",
      "154  2002-02-01 14:53:35  \\nJoint Venture: A 1997 Enron Meeting Belies O...   \n",
      "\n",
      "                                         clean_content  \n",
      "154  joint venture enron meeting belies officers cl...  \n"
     ]
    }
   ],
   "source": [
    "# Import module\n",
    "from pandas import read_pickle\n",
    "\n",
    "# Load Data\n",
    "df = read_pickle('data/eron.pkl')\n",
    "\n",
    "# Find all cleaned emails that contain 'sell enron stock'\n",
    "mask = df['clean_content'].str.contains('sell enron stock', na=False)\n",
    "\n",
    "# Select the data from df using the mask\n",
    "print(df.loc[mask])"
   ]
  },
  {
   "cell_type": "markdown",
   "metadata": {
    "pycharm": {
     "name": "#%% md\n"
    }
   },
   "source": [
    "You see that searching for particular string values in a dataframe can be relatively easy, and allows you to include textual data into your model or analysis. You can use this word search as an additional flag, or as a feauture in your fraud detection model. Let's now have a look at how to filter the data using multiple search terms."
   ]
  },
  {
   "cell_type": "markdown",
   "metadata": {
    "pycharm": {
     "name": "#%% md\n"
    }
   },
   "source": [
    "## Using list of terms\n",
    "Oftentimes you don't want to search on just one term. You probably can create a full \"fraud dictionary\" of terms that could potentially flag fraudulent clients and/or transactions. Fraud analysts often will have an idea what should be in such a dictionary. In this exercise you're going to flag a multitude of terms, and in the next exercise you'll create a new flag variable out of it. The 'flag' can be used either directly in a machine learning model as a feature, or as an additional filter on top of your machine learning model results. Let's first use a list of terms to filter our data on."
   ]
  },
  {
   "cell_type": "code",
   "execution_count": 2,
   "metadata": {
    "pycharm": {
     "name": "#%%\n"
    }
   },
   "outputs": [
    {
     "name": "stdout",
     "output_type": "stream",
     "text": [
      "                              From                               To  \\\n",
      "0  ('advdfeedback@investools.com')  ('advdfeedback@investools.com')   \n",
      "1    ('richard.sanders@enron.com')    ('richard.sanders@enron.com')   \n",
      "2            ('m..love@enron.com')            ('m..love@enron.com')   \n",
      "3     ('leslie.milosevich@kp.org')     ('leslie.milosevich@kp.org')   \n",
      "4     ('rtwait@graphicaljazz.com')     ('rtwait@graphicaljazz.com')   \n",
      "\n",
      "                  Date                                            content  \\\n",
      "0  2002-01-29 23:20:55  INVESTools Advisory\\nA Free Digest of Trusted ...   \n",
      "1  2000-09-20 19:07:00  ----- Forwarded by Richard B Sanders/HOU/ECT o...   \n",
      "2  2001-10-30 16:15:17  hey you are not wearing your target purple shi...   \n",
      "3  2002-01-30 17:54:18  Leslie Milosevich\\n1042 Santa Clara Avenue\\nAl...   \n",
      "4  2002-01-30 19:36:01  Rini Twait\\n1010 E 5th Ave\\nLongmont, CO 80501...   \n",
      "\n",
      "                                       clean_content  \n",
      "0  investools advisory free digest trusted invest...  \n",
      "1  forwarded richard b sanders hou ect pm justin ...  \n",
      "2  hey wearing target purple shirt today mine wan...  \n",
      "3  leslie milosevich santa clara avenue alameda c...  \n",
      "4  rini twait e th ave longmont co rtwait graphic...  \n"
     ]
    }
   ],
   "source": [
    "# Create a list of terms to search for\n",
    "searchfor = ['enron stock', 'sell stock', 'stock bonus', 'sell enron stock']\n",
    "\n",
    "# Filter cleaned emails on searchfor list and select from df\n",
    "filtered_emails = df.loc[df['clean_content'].str.contains('|'.join(searchfor), na=False)]\n",
    "print(filtered_emails.head())"
   ]
  },
  {
   "cell_type": "markdown",
   "metadata": {
    "pycharm": {
     "name": "#%% md\n"
    }
   },
   "source": [
    "By joining the search terms with the 'or' sign, i.e. |, you can search on a multitude of terms in your dataset very easily. Let's now create a flag from this which you can use as a feature in a machine learning model."
   ]
  },
  {
   "cell_type": "markdown",
   "metadata": {
    "pycharm": {
     "name": "#%% md\n"
    }
   },
   "source": [
    "## Creating a flag\n",
    "This time you are going to create an actual flag variable that gives a 1 when the emails get a hit on the search terms of interest, and 0 otherwise. This is the last step you need to make in order to actually use the text data content as a feature in a machine learning model, or as an actual flag on top of model results. You can continue working with the dataframe df containing the emails, and the searchfor list is the one defined in the last exercise."
   ]
  },
  {
   "cell_type": "code",
   "execution_count": 3,
   "metadata": {
    "pycharm": {
     "name": "#%%\n"
    }
   },
   "outputs": [
    {
     "name": "stdout",
     "output_type": "stream",
     "text": [
      "0    1776\n",
      "1     314\n",
      "Name: flag, dtype: int64\n"
     ]
    }
   ],
   "source": [
    "import numpy as np\n",
    "\n",
    "# Create flag variable where the emails match the searchfor terms\n",
    "df['flag'] = np.where((df['clean_content'].str.contains('|'.join(searchfor)) == True), 1, 0)\n",
    "\n",
    "# Count the values of the flag variable\n",
    "count = df['flag'].value_counts()\n",
    "print(count)"
   ]
  },
  {
   "cell_type": "markdown",
   "metadata": {
    "pycharm": {
     "name": "#%% md\n"
    }
   },
   "source": [
    "You have now managed to search for a list of strings in several lines of text data. These skills come in handy when you want to flag certain words based on what you discovered in your topic model, or when you know beforehand what you want to search for. In the next exercises you're going to learn how to clean text data and to create your own topic model to further look for indications of fraud in your text data."
   ]
  },
  {
   "cell_type": "markdown",
   "metadata": {
    "pycharm": {
     "name": "#%% md\n"
    }
   },
   "source": [
    "## Removing stopwords\n",
    "In the following exercises you're going to clean the Enron emails, in order to be able to use the data in a topic model. Text cleaning can be challenging, so you'll learn some steps to do this well. The dataframe containing the emails df is available. In a first step you need to define the list of stopwords and punctuations that are to be removed in the next exercise from the text data. Let's give it a try."
   ]
  },
  {
   "cell_type": "code",
   "execution_count": 4,
   "metadata": {
    "pycharm": {
     "name": "#%%\n"
    }
   },
   "outputs": [],
   "source": [
    "# Import nltk packages and string\n",
    "from nltk.corpus import stopwords\n",
    "import string\n",
    "\n",
    "# Define stopwords to exclude\n",
    "stop = set(stopwords.words('english'))\n",
    "stop.update((\"to\",\"cc\",\"subject\",\"http\",\"from\",\"sent\", \"ect\", \"u\", \"fwd\", \"www\", \"com\"))\n",
    "\n",
    "# Define punctuations to exclude and lemmatizer\n",
    "exclude = set(string.punctuation)"
   ]
  },
  {
   "cell_type": "markdown",
   "metadata": {
    "pycharm": {
     "name": "#%% md\n"
    }
   },
   "source": [
    "## Cleaning text data\n",
    "Now that you've defined the stopwords and punctuations, let's use these to clean our enron emails in the dataframe df further. The lists containing stopwords and punctuations are available under stop and exclude There are a few more steps to take before you have cleaned data, such as \"lemmatization\" of words, and stemming the verbs. The verbs in the email data are already stemmed, and the lemmatization is already done for you in this exercise."
   ]
  },
  {
   "cell_type": "code",
   "execution_count": 5,
   "metadata": {
    "pycharm": {
     "name": "#%%\n"
    }
   },
   "outputs": [
    {
     "name": "stderr",
     "output_type": "stream",
     "text": [
      "[nltk_data] Downloading package wordnet to\n",
      "[nltk_data]     /Users/alejandro.robles/nltk_data...\n",
      "[nltk_data]   Package wordnet is already up-to-date!\n"
     ]
    },
    {
     "name": "stdout",
     "output_type": "stream",
     "text": [
      "['investools', 'advisory', 'free', 'digest', 'trusted', 'investment', 'advice', 'unsubscribe', 'free', 'newsletter', 'please', 'see', 'issue', 'fried', 'sell', 'stock', 'gain', 'month', 'km', 'rowe', 'january', 'index', 'confirms', 'bull', 'market', 'aloy', 'small', 'cap', 'advisor', 'earns', 'lbix', 'compounding', 'return', 'pine', 'tree', 'pcl', 'undervalued', 'high', 'yield', 'bank', 'put', 'customer', 'first', 'aso', 'word', 'sponsor', 'top', 'wall', 'street', 'watcher', 'ben', 'zacks', 'year', 'year', 'gain', 'moving', 'best', 'brightest', 'wall', 'street', 'big', 'money', 'machine', 'earned', 'ben', 'zacks', 'five', 'year', 'average', 'annual', 'gain', 'start', 'outperforming', 'long', 'term', 'get', 'zacks', 'latest', 'stock', 'buylist', 'free', 'day', 'trial', 'investools', 'c', 'go', 'zaks', 'mtxtu', 'zakstb', 'investools', 'advisory', 'john', 'brobst', 'investools', 'fried', 'sell', 'stock', 'lock', 'month', 'km', 'david', 'fried', 'know', 'stock', 'undervalued', 'company', 'management', 'buy', 'back', 'share', 'open', 'market', 'latest', 'triumph', 'pocketing', 'impressive', 'gain', 'three', 'short', 'month', 'selling', 'four', 'buyback', 'stock', 'include', 'gain', 'auto', 'retailer', 'automation', 'incorporated', 'gain', 'digital', 'phone', 'system', 'purveyor', 'inter', 'tel', 'intl', 'fried', 'recent', 'move', 'buy', 'kmart', 'corporation', 'km', 'beleaguered', 'discount', 'retailer', 'declared', 'bankruptcy', 'think', 'k', 'mart', 'go', 'business', 'fried', 'say', 'take', 'recovery', 'possibility', 'bought', 'share', 'another', 'fried', 'pick', 'c', 'cor', 'net', 'corporation', 'ccbl', 'provides', 'range', 'technology', 'service', 'broadband', 'network', 'today', 'telecom', 'spending', 'slowdown', 'hit', 'company', 'hard', 'net', 'sale', 'fell', 'million', 'last', 'quarter', 'caused', 'net', 'loss', 'million', 'v', 'million', 'gain', 'last', 'year', 'fried', 'cite', 'buyback', 'plan', 'million', 'restructuring', 'charge', 'proof', 'management', 'see', 'rosier', 'future', 'david', 'fried', 'advice', 'see', 'buyback', 'index', 'portfolio', 'january', 'buyback', 'letter', 'david', 'fried', 'provides', 'wealth', 'building', 'opportunity', 'company', 'repurchasing', 'stock', 'free', 'day', 'trial', 'go', 'investools', 'c', 'go', 'back', 'mtxtu', 'back', 'rowe', 'january', 'index', 'confirms', 'bull', 'market', 'aloy', 'rowe', 'say', 'january', 'index', 'confirms', 'see', 'bull', 'market', 'first', 'five', 'trading', 'day', 'provided', 'gain', 'nasdaq', 'p', 'dow', 'industrials', 'rowe', 'say', 'five', 'day', 'index', 'correctly', 'predicted', 'market', 'direction', 'year', 'since', 'four', 'exception', 'include', 'three', 'war', 'year', 'fed', 'fund', 'rate', 'doubled', 'year', 'rowe', 'maintains', 'sure', 'recommendation', 'seven', 'company', 'say', 'leading', 'market', 'one', 'alloy', 'incorporated', 'aloy', 'medium', 'company', 'direct', 'marketer', 'provides', 'content', 'community', 'commerce', 'generation', 'roughly', 'million', 'people', 'year', 'age', 'rowe', 'like', 'market', 'account', 'billion', 'disposable', 'income', 'grow', 'faster', 'overall', 'population', 'q', 'saw', 'earnings', 'increase', 'sale', 'another', 'rowe', 'pick', 'new', 'century', 'financial', 'corporation', 'ncen', 'financier', 'make', 'buy', 'sell', 'service', 'sub', 'prime', 'mortgage', 'loan', 'secured', 'first', 'mortgage', 'single', 'family', 'home', 'borrower', 'typically', 'plenty', 'equity', 'property', 'secure', 'loan', 'suffer', 'weak', 'credit', 'profile', 'high', 'debt', 'income', 'ratio', 'q', 'earnings', 'grew', 'hike', 'sale', 'rowe', 'advice', 'see', 'investment', 'opportunity', 'february', 'wall', 'street', 'digest', 'momentum', 'investor', 'donald', 'rowe', 'target', 'stock', 'mutual', 'fund', 'capable', 'generating', 'annual', 'return', 'free', 'day', 'trial', 'go', 'investools', 'c', 'go', 'wall', 'mtxtu', 'wall', 'small', 'cap', 'advisor', 'earns', 'lbix', 'major', 'index', 'suffered', 'terrible', 'year', 'richard', 'geist', 'recommendation', 'earned', 'healthy', 'list', 'many', 'reason', 'selection', 'see', 'growth', 'going', 'forward', 'include', 'extremely', 'bullish', 'monetary', 'condition', 'high', 'productivity', 'inflation', 'sight', 'yield', 'curve', 'continues', 'steepen', 'also', 'investor', 'sentiment', 'poll', 'becoming', 'bearish', 'always', 'contrary', 'indicator', 'say', 'geist', 'latest', 'recommendation', 'buy', 'share', 'leading', 'brand', 'lbix', 'company', 'canada', 'largest', 'independent', 'food', 'brand', 'management', 'company', 'expanding', 'u', 'geist', 'particularly', 'like', 'firm', 'save', 'money', 'integrated', 'distribution', 'system', 'system', 'make', 'product', 'raw', 'material', 'provides', 'packaging', 'warehousing', 'distribution', 'recent', 'financial', 'result', 'show', 'leading', 'brand', 'roll', 'fy', 'saw', 'revenue', 'grow', 'million', 'net', 'income', 'million', 'per', 'share', 'last', 'year', 'loss', 'geist', 'predicts', 'company', 'see', 'revenue', 'reach', 'million', 'million', 'yield', 'forward', 'pe', 'think', 'lbix', 'significantly', 'undervalued', 'geist', 'say', 'range', 'leading', 'brand', 'strong', 'buy', 'richard', 'geist', 'advice', 'see', 'highlighted', 'stock', 'february', 'richard', 'geist', 'strategic', 'investing', 'richard', 'geist', 'integrates', 'psychological', 'aspect', 'investing', 'methodology', 'selecting', 'small', 'company', 'stock', 'free', 'day', 'trial', 'go', 'investools', 'c', 'go', 'stin', 'mtxtu', 'stin', 'compounding', 'return', 'pine', 'tree', 'pcl', 'growing', 'tree', 'usually', 'noisy', 'business', 'catch', 'attention', 'investment', 'medium', 'good', 'business', 'say', 'dick', 'young', 'timber', 'business', 'le', 'volatile', 'capital', 'intensive', 'manufacturing', 'young', 'see', 'demand', 'timber', 'increasing', 'population', 'increase', 'note', 'average', 'return', 'timber', 'investment', 'outperformed', 'p', 'average', 'annual', 'return', 'young', 'favorite', 'timber', 'play', 'plum', 'creek', 'timber', 'pcl', 'one', 'largest', 'private', 'timberland', 'owner', 'u', 'reit', 'primary', 'goal', 'profit', 'acquiring', 'managing', 'land', 'young', 'say', 'plum', 'creek', 'timber', 'yield', 'status', 'reit', 'make', 'ideal', 'tax', 'deferred', 'account', 'another', 'young', 'timber', 'selection', 'deltic', 'timber', 'corporation', 'del', 'company', 'grows', 'harvest', 'timber', 'acre', 'arkansas', 'louisiana', 'main', 'company', 'goal', 'expand', 'timber', 'holding', 'sustainable', 'harvest', 'level', 'young', 'say', 'share', 'good', 'portfolio', 'counterweight', 'value', 'investor', 'appreciate', 'intrinsic', 'worth', 'underlying', 'real', 'natural', 'resource', 'dick', 'young', 'advice', 'see', 'investment', 'commentary', 'february', 'richard', 'young', 'intelligence', 'report', 'richard', 'young', 'us', 'buy', 'hold', 'strategy', 'mentor', 'warren', 'buffett', 'uncover', 'low', 'risk', 'high', 'reward', 'opportunity', 'free', 'day', 'trial', 'go', 'investools', 'c', 'go', 'inte', 'mtxtu', 'inte', 'undervalued', 'high', 'yield', 'bank', 'put', 'customer', 'first', 'aso', 'amsouth', 'bancorp', 'aso', 'giving', 'investor', 'healthy', 'yield', 'risk', 'involved', 'say', 'jodie', 'wei', 'investment', 'quality', 'trend', 'billion', 'asset', 'amsouth', 'one', 'largest', 'financial', 'institution', 'south', 'office', 'credit', 'bank', 'success', 'putting', 'customer', 'first', 'wei', 'like', 'amsouth', 'us', 'new', 'technology', 'save', 'money', 'streamlining', 'operation', 'note', 'amsouth', 'ranked', 'number', 'six', 'eweek', 'fast', 'track', 'list', 'company', 'deploy', 'cutting', 'edge', 'technology', 'throughout', 'operation', 'number', 'merrill', 'lynch', 'financial', 'service', 'firm', 'placed', 'higher', 'also', 'amsouth', 'internet', 'banking', 'group', 'quadrupled', 'customer', 'base', 'last', 'year', 'wei', 'say', 'aso', 'share', 'undervalued', 'stock', 'selling', 'near', 'yield', 'wei', 'see', 'upside', 'potential', 'dividend', 'risen', 'annually', 'past', 'year', 'buyback', 'plan', 'million', 'share', 'authorized', 'september', 'stock', 'pe', 'reasonable', 'x', 'priced', 'yield', 'aso', 'undervalued', 'buy', 'considered', 'wei', 'say', 'jodie', 'wei', 'advice', 'see', 'investment', 'spotlight', 'january', 'income', 'digest', 'digest', 'excerpt', 'investment', 'publication', 'highlight', 'weather', 'income', 'oriented', 'opportunity', 'uncovered', 'top', 'mind', 'wall', 'street', 'free', 'day', 'trial', 'go', 'investools', 'c', 'go', 'indi', 'mtxtu', 'indi', 'word', 'sponsor', 'new', 'report', 'top', 'pick', 'despite', 'slumping', 'economy', 'shaky', 'stock', 'market', 'frank', 'curzio', 'bull', 'eye', 'pick', 'gained', 'whopping', 'curzio', 'selected', 'stock', 'incredible', 'potential', 'get', 'red', 'hot', 'pick', 'today', 'click', 'investools', 'c', 'go', 'fxcp', 'fxcp', 'mtxtu', 'disclaimer', 'investools', 'advisory', 'published', 'solely', 'informational', 'purpose', 'solicit', 'offer', 'buy', 'sell', 'stock', 'mutual', 'fund', 'security', 'attempt', 'claim', 'complete', 'description', 'security', 'market', 'development', 'referred', 'material', 'expression', 'opinion', 'change', 'without', 'notice', 'information', 'obtained', 'internal', 'external', 'source', 'investools', 'considers', 'reliable', 'investools', 'independently', 'verified', 'information', 'investools', 'guarantee', 'accurate', 'complete', 'investools', 'undertake', 'advise', 'anyone', 'investools', 'employee', 'officer', 'director', 'may', 'time', 'time', 'position', 'security', 'mentioned', 'may', 'sell', 'buy', 'security', 'remove', 'free', 'email', 'list', 'removed', 'email', 'distribution', 'list', 'free', 'investools', 'advisory', 'update', 'simply', 'click', 'link', 'hit', 'send', 'email', 'launched', 'copy', 'paste', 'email', 'address', 'new', 'outgoing', 'email', 'message', 'hit', 'send', 'email', 'launched', 'mailto', 'bonnie', 'investools', 'important', 'automated', 'system', 'cancel', 'paid', 'newsletter', 'service', 'subscription', 'investools', 'tried', 'unsubscribing', 'past', 'believe', 'received', 'message', 'error', 'please', 'send', 'email', 'mailto', 'itfeedback', 'investools', 'voice', 'concern', 'removed', 'list', 'paid', 'subscription', 'information', 'question', 'investools', 'service', 'paid', 'subscription', 'contact', 'investools', 'customer', 'service', 'center', 'investools', 'cgi', 'bin', 'help', 'pl', 'info', 'pr', 'faq', 'html']\n"
     ]
    }
   ],
   "source": [
    "# Import the lemmatizer from nltk\n",
    "import nltk\n",
    "from nltk.stem.wordnet import WordNetLemmatizer\n",
    "nltk.download('wordnet')\n",
    "lemma = WordNetLemmatizer()\n",
    "\n",
    "# Define word cleaning function\n",
    "def clean(text, stop):\n",
    "    text = text.rstrip()\n",
    "    stop_free = \" \".join([i for i in text.lower().split() if((i not in stop) and (not i.isdigit()))])\n",
    "    punc_free = ''.join(i for i in stop_free if i not in exclude)\n",
    "    normalized = \" \".join(lemma.lemmatize(i) for i in punc_free.split())\n",
    "    return normalized\n",
    "\n",
    "# Clean the emails in df and print results\n",
    "text_clean=[]\n",
    "for text in df['clean_content'].astype(str):\n",
    "    text_clean.append(clean(text, stop).split())\n",
    "print(text_clean[0])"
   ]
  },
  {
   "cell_type": "markdown",
   "metadata": {
    "pycharm": {
     "name": "#%% md\n"
    }
   },
   "source": [
    "Now that you have cleaned your data entirely with the necessary steps, including splitting the text into words, removing stopwords and punctuations, and lemmatizing your words. You are now ready to run a topic model on this data. In the following exercises you're going to explore how to do that."
   ]
  },
  {
   "cell_type": "markdown",
   "metadata": {
    "pycharm": {
     "name": "#%% md\n"
    }
   },
   "source": [
    "## Create dictionary and corpus\n",
    "In order to run an LDA topic model, you first need to define your dictionary and corpus first, as those need to go into the model. You're going to continue working on the cleaned text data that you've done in the previous exercises. That means that text_clean is available for you already to continue working with, and you'll use that to create your dictionary and corpus."
   ]
  },
  {
   "cell_type": "code",
   "execution_count": 6,
   "metadata": {
    "pycharm": {
     "name": "#%%\n"
    }
   },
   "outputs": [],
   "source": [
    "# Import the packages\n",
    "import gensim\n",
    "from gensim import corpora\n",
    "\n",
    "# Define the dictionary\n",
    "dictionary = corpora.Dictionary(text_clean)\n",
    "\n",
    "# Define the corpus\n",
    "corpus = [dictionary.doc2bow(text) for text in text_clean]"
   ]
  },
  {
   "cell_type": "markdown",
   "metadata": {
    "pycharm": {
     "name": "#%% md\n"
    }
   },
   "source": [
    "These are the two ingredients you need to run your topic model on the enron emails. You are now ready for the final step and create your first fraud detection topic model."
   ]
  },
  {
   "cell_type": "markdown",
   "metadata": {
    "pycharm": {
     "name": "#%% md\n"
    }
   },
   "source": [
    "## LDA model\n",
    "Now it's time to build the LDA model. Using the dictionary and corpus, you are ready to discover which topics are present in the Enron emails. With a quick print of words assigned to the topics, you can do a first exploration about whether there are any obvious topics that jump out. Be mindful that the topic model is heavy to calculate so it will take a while to run. Let's give it a try!"
   ]
  },
  {
   "cell_type": "code",
   "execution_count": 7,
   "metadata": {
    "pycharm": {
     "name": "#%%\n"
    }
   },
   "outputs": [
    {
     "name": "stdout",
     "output_type": "stream",
     "text": [
      "(0, '0.019*\"enron\" + 0.011*\"company\" + 0.006*\"employee\" + 0.006*\"stock\" + 0.005*\"energy\"')\n",
      "(1, '0.048*\"td\" + 0.034*\"net\" + 0.033*\"money\" + 0.031*\"tr\" + 0.028*\"width\"')\n",
      "(2, '0.037*\"image\" + 0.009*\"se\" + 0.009*\"ne\" + 0.009*\"sp\" + 0.008*\"wscc\"')\n",
      "(3, '0.044*\"enron\" + 0.010*\"hou\" + 0.007*\"pm\" + 0.007*\"please\" + 0.007*\"development\"')\n",
      "(4, '0.014*\"message\" + 0.010*\"original\" + 0.009*\"e\" + 0.008*\"mail\" + 0.007*\"know\"')\n"
     ]
    }
   ],
   "source": [
    "# Define the LDA model\n",
    "ldamodel = gensim.models.ldamodel.LdaModel(corpus, num_topics=5, id2word=dictionary, passes=5)\n",
    "\n",
    "# Save the topics and top 5 words\n",
    "topics = ldamodel.print_topics(num_words=5)\n",
    "\n",
    "# Print the results\n",
    "for topic in topics:\n",
    "    print(topic)"
   ]
  },
  {
   "cell_type": "markdown",
   "metadata": {
    "pycharm": {
     "name": "#%% md\n"
    }
   },
   "source": [
    "You have now successfully created your first topic model on the Enron email data. However, the print of words doesn't really give you enough information to find a topic that might lead you to signs of fraud. You'll therefore need to closely inspect the model results in order to be able to detect anything that can be related to fraud in your data. You'll learn more about this in the next video."
   ]
  },
  {
   "cell_type": "markdown",
   "metadata": {
    "pycharm": {
     "name": "#%% md\n"
    }
   },
   "source": [
    "## Finding fraudsters based on topic\n",
    "In this exercise you're going to link the results from the topic model back to your original data. You now learned that you want to flag everything related to topic 3. As you will see, this is actually not that straightforward. You'll be given the function get_topic_details() which takes the arguments ldamodel and corpus. It retrieves the details of the topics for each line of text. With that function, you can append the results back to your original data. If you want to learn more detail on how to work with the model results, which is beyond the scope of this course, you're highly encouraged to read this article."
   ]
  },
  {
   "cell_type": "code",
   "execution_count": 8,
   "metadata": {
    "pycharm": {
     "name": "#%%\n"
    }
   },
   "outputs": [],
   "source": [
    "import pandas as pd\n",
    "\n",
    "def get_topic_details(ldamodel, corpus):\n",
    "    topic_details_df = pd.DataFrame()\n",
    "    for i, row in enumerate(ldamodel[corpus]):\n",
    "        row = sorted(row, key=lambda x: (x[1]), reverse=True)\n",
    "        for j, (topic_num, prop_topic) in enumerate(row):\n",
    "            if j == 0:  # => dominant topic\n",
    "                wp = ldamodel.show_topic(topic_num)\n",
    "                topic_keywords = \", \".join([word for word, prop in wp])\n",
    "                topic_details_df = topic_details_df.append(pd.Series([int(topic_num), round(prop_topic,4), topic_keywords]), ignore_index=True)\n",
    "    topic_details_df.columns = ['Dominant_Topic', '% Score', 'Topic_Keywords']\n",
    "    return topic_details_df"
   ]
  },
  {
   "cell_type": "code",
   "execution_count": 9,
   "metadata": {
    "pycharm": {
     "name": "#%%\n"
    }
   },
   "outputs": [
    {
     "name": "stdout",
     "output_type": "stream",
     "text": [
      "   Dominant_Topic  % Score                                     Topic_Keywords\n",
      "0             0.0   0.9714  enron, company, employee, stock, energy, new, ...\n",
      "1             3.0   0.4260  enron, hou, pm, please, development, corp, mes...\n",
      "2             3.0   0.6837  enron, hou, pm, please, development, corp, mes...\n",
      "3             0.0   0.9935  enron, company, employee, stock, energy, new, ...\n",
      "4             0.0   0.9934  enron, company, employee, stock, energy, new, ...\n",
      "   Dominant_Topic  % Score                                     Topic_Keywords  \\\n",
      "0             0.0   0.9714  enron, company, employee, stock, energy, new, ...   \n",
      "1             3.0   0.4260  enron, hou, pm, please, development, corp, mes...   \n",
      "2             3.0   0.6837  enron, hou, pm, please, development, corp, mes...   \n",
      "3             0.0   0.9935  enron, company, employee, stock, energy, new, ...   \n",
      "4             0.0   0.9934  enron, company, employee, stock, energy, new, ...   \n",
      "\n",
      "                                       Original text  \n",
      "0  [investools, advisory, free, digest, trusted, ...  \n",
      "1  [forwarded, richard, b, sander, hou, pm, justi...  \n",
      "2  [hey, wearing, target, purple, shirt, today, m...  \n",
      "3  [leslie, milosevich, santa, clara, avenue, ala...  \n",
      "4  [rini, twait, e, th, ave, longmont, co, rtwait...  \n",
      "   Dominant_Topic  % Score                                     Topic_Keywords  \\\n",
      "0             0.0   0.9714  enron, company, employee, stock, energy, new, ...   \n",
      "1             3.0   0.4260  enron, hou, pm, please, development, corp, mes...   \n",
      "2             3.0   0.6837  enron, hou, pm, please, development, corp, mes...   \n",
      "3             0.0   0.9935  enron, company, employee, stock, energy, new, ...   \n",
      "4             0.0   0.9934  enron, company, employee, stock, energy, new, ...   \n",
      "\n",
      "                                       Original text  flag  \n",
      "0  [investools, advisory, free, digest, trusted, ...     0  \n",
      "1  [forwarded, richard, b, sander, hou, pm, justi...     1  \n",
      "2  [hey, wearing, target, purple, shirt, today, m...     1  \n",
      "3  [leslie, milosevich, santa, clara, avenue, ala...     0  \n",
      "4  [rini, twait, e, th, ave, longmont, co, rtwait...     0  \n"
     ]
    }
   ],
   "source": [
    "# Run get_topic_details function and check the results\n",
    "print(get_topic_details(ldamodel, corpus).head())\n",
    "\n",
    "# Add original text to topic details in a dataframe\n",
    "contents = pd.DataFrame({'Original text': text_clean})\n",
    "topic_details = pd.concat([get_topic_details(ldamodel, corpus), contents], axis=1)\n",
    "print(topic_details.head())\n",
    "\n",
    "# Create flag for text highest associated with topic 3\n",
    "topic_details['flag'] = np.where((topic_details['Dominant_Topic'] == 3.0), 1, 0)\n",
    "print(topic_details.head())"
   ]
  },
  {
   "cell_type": "markdown",
   "metadata": {
    "pycharm": {
     "name": "#%% md\n"
    }
   },
   "source": [
    "You have now flagged all data that is highest associated with topic 3, that seems to cover internal conversation about enron stock options. You are a true detective. With these exercises you have demonstrated that text mining and topic modeling can be a powerful tool for fraud detection.\n",
    "\n"
   ]
  },
  {
   "cell_type": "code",
   "execution_count": 10,
   "metadata": {},
   "outputs": [
    {
     "name": "stderr",
     "output_type": "stream",
     "text": [
      "/Users/alejandro.robles/Library/Python/3.7/lib/python/site-packages/pyLDAvis/_prepare.py:257: FutureWarning: Sorting because non-concatenation axis is not aligned. A future version\n",
      "of pandas will change to not sort by default.\n",
      "\n",
      "To accept the future behavior, pass 'sort=False'.\n",
      "\n",
      "To retain the current behavior and silence the warning, pass 'sort=True'.\n",
      "\n",
      "  return pd.concat([default_term_info] + list(topic_dfs))\n"
     ]
    },
    {
     "data": {
      "text/html": [
       "\n",
       "<link rel=\"stylesheet\" type=\"text/css\" href=\"https://cdn.rawgit.com/bmabey/pyLDAvis/files/ldavis.v1.0.0.css\">\n",
       "\n",
       "\n",
       "<div id=\"ldavis_el35265227371472684911863\"></div>\n",
       "<script type=\"text/javascript\">\n",
       "\n",
       "var ldavis_el35265227371472684911863_data = {\"mdsDat\": {\"x\": [-0.04346937613851317, 0.3252161357142895, -0.05929811511486797, -0.10364109749969223, -0.11880754696121647], \"y\": [0.08568457781122112, 0.01710589783057106, -0.2546931503909085, 0.07291763095317887, 0.0789850437959374], \"topics\": [1, 2, 3, 4, 5], \"cluster\": [1, 1, 1, 1, 1], \"Freq\": [55.45083236694336, 3.328594207763672, 2.9083876609802246, 30.32505226135254, 7.987132549285889]}, \"tinfo\": {\"Category\": [\"Default\", \"Default\", \"Default\", \"Default\", \"Default\", \"Default\", \"Default\", \"Default\", \"Default\", \"Default\", \"Default\", \"Default\", \"Default\", \"Default\", \"Default\", \"Default\", \"Default\", \"Default\", \"Default\", \"Default\", \"Default\", \"Default\", \"Default\", \"Default\", \"Default\", \"Default\", \"Default\", \"Default\", \"Default\", \"Default\", \"Topic1\", \"Topic1\", \"Topic1\", \"Topic1\", \"Topic1\", \"Topic1\", \"Topic1\", \"Topic1\", \"Topic1\", \"Topic1\", \"Topic1\", \"Topic1\", \"Topic1\", \"Topic1\", \"Topic1\", \"Topic1\", \"Topic1\", \"Topic1\", \"Topic1\", \"Topic1\", \"Topic1\", \"Topic1\", \"Topic1\", \"Topic1\", \"Topic1\", \"Topic1\", \"Topic1\", \"Topic1\", \"Topic1\", \"Topic1\", \"Topic1\", \"Topic1\", \"Topic1\", \"Topic1\", \"Topic1\", \"Topic1\", \"Topic1\", \"Topic1\", \"Topic1\", \"Topic1\", \"Topic1\", \"Topic1\", \"Topic1\", \"Topic1\", \"Topic1\", \"Topic1\", \"Topic1\", \"Topic1\", \"Topic1\", \"Topic1\", \"Topic1\", \"Topic1\", \"Topic1\", \"Topic1\", \"Topic1\", \"Topic1\", \"Topic1\", \"Topic1\", \"Topic1\", \"Topic1\", \"Topic1\", \"Topic1\", \"Topic1\", \"Topic1\", \"Topic1\", \"Topic1\", \"Topic1\", \"Topic1\", \"Topic1\", \"Topic1\", \"Topic1\", \"Topic1\", \"Topic1\", \"Topic1\", \"Topic2\", \"Topic2\", \"Topic2\", \"Topic2\", \"Topic2\", \"Topic2\", \"Topic2\", \"Topic2\", \"Topic2\", \"Topic2\", \"Topic2\", \"Topic2\", \"Topic2\", \"Topic2\", \"Topic2\", \"Topic2\", \"Topic2\", \"Topic2\", \"Topic2\", \"Topic2\", \"Topic2\", \"Topic2\", \"Topic2\", \"Topic2\", \"Topic2\", \"Topic2\", \"Topic2\", \"Topic2\", \"Topic2\", \"Topic2\", \"Topic2\", \"Topic2\", \"Topic2\", \"Topic2\", \"Topic2\", \"Topic2\", \"Topic2\", \"Topic2\", \"Topic2\", \"Topic2\", \"Topic2\", \"Topic2\", \"Topic2\", \"Topic2\", \"Topic2\", \"Topic2\", \"Topic3\", \"Topic3\", \"Topic3\", \"Topic3\", \"Topic3\", \"Topic3\", \"Topic3\", \"Topic3\", \"Topic3\", \"Topic3\", \"Topic3\", \"Topic3\", \"Topic3\", \"Topic3\", \"Topic3\", \"Topic3\", \"Topic3\", \"Topic3\", \"Topic3\", \"Topic3\", \"Topic3\", \"Topic3\", \"Topic3\", \"Topic3\", \"Topic3\", \"Topic3\", \"Topic3\", \"Topic3\", \"Topic3\", \"Topic3\", \"Topic3\", \"Topic3\", \"Topic3\", \"Topic3\", \"Topic3\", \"Topic3\", \"Topic3\", \"Topic3\", \"Topic3\", \"Topic3\", \"Topic3\", \"Topic3\", \"Topic3\", \"Topic3\", \"Topic3\", \"Topic3\", \"Topic3\", \"Topic3\", \"Topic3\", \"Topic3\", \"Topic3\", \"Topic4\", \"Topic4\", \"Topic4\", \"Topic4\", \"Topic4\", \"Topic4\", \"Topic4\", \"Topic4\", \"Topic4\", \"Topic4\", \"Topic4\", \"Topic4\", \"Topic4\", \"Topic4\", \"Topic4\", \"Topic4\", \"Topic4\", \"Topic4\", \"Topic4\", \"Topic4\", \"Topic4\", \"Topic4\", \"Topic4\", \"Topic4\", \"Topic4\", \"Topic4\", \"Topic4\", \"Topic4\", \"Topic4\", \"Topic4\", \"Topic4\", \"Topic4\", \"Topic4\", \"Topic4\", \"Topic4\", \"Topic4\", \"Topic4\", \"Topic4\", \"Topic4\", \"Topic4\", \"Topic4\", \"Topic4\", \"Topic4\", \"Topic4\", \"Topic4\", \"Topic4\", \"Topic4\", \"Topic4\", \"Topic4\", \"Topic4\", \"Topic4\", \"Topic4\", \"Topic4\", \"Topic4\", \"Topic4\", \"Topic4\", \"Topic4\", \"Topic4\", \"Topic4\", \"Topic4\", \"Topic4\", \"Topic4\", \"Topic4\", \"Topic4\", \"Topic4\", \"Topic4\", \"Topic4\", \"Topic4\", \"Topic4\", \"Topic4\", \"Topic4\", \"Topic4\", \"Topic4\", \"Topic4\", \"Topic4\", \"Topic4\", \"Topic4\", \"Topic4\", \"Topic5\", \"Topic5\", \"Topic5\", \"Topic5\", \"Topic5\", \"Topic5\", \"Topic5\", \"Topic5\", \"Topic5\", \"Topic5\", \"Topic5\", \"Topic5\", \"Topic5\", \"Topic5\", \"Topic5\", \"Topic5\", \"Topic5\", \"Topic5\", \"Topic5\", \"Topic5\", \"Topic5\", \"Topic5\", \"Topic5\", \"Topic5\", \"Topic5\", \"Topic5\", \"Topic5\", \"Topic5\", \"Topic5\", \"Topic5\", \"Topic5\", \"Topic5\", \"Topic5\", \"Topic5\", \"Topic5\", \"Topic5\", \"Topic5\", \"Topic5\", \"Topic5\", \"Topic5\", \"Topic5\", \"Topic5\", \"Topic5\", \"Topic5\", \"Topic5\", \"Topic5\", \"Topic5\", \"Topic5\", \"Topic5\", \"Topic5\", \"Topic5\", \"Topic5\", \"Topic5\", \"Topic5\", \"Topic5\", \"Topic5\", \"Topic5\", \"Topic5\", \"Topic5\", \"Topic5\", \"Topic5\", \"Topic5\", \"Topic5\", \"Topic5\", \"Topic5\", \"Topic5\", \"Topic5\", \"Topic5\", \"Topic5\", \"Topic5\", \"Topic5\", \"Topic5\"], \"Freq\": [10877.0, 803.0, 708.0, 789.0, 710.0, 1356.0, 1684.0, 469.0, 1301.0, 1399.0, 1072.0, 414.0, 379.0, 1187.0, 1588.0, 1593.0, 577.0, 898.0, 689.0, 961.0, 928.0, 276.0, 262.0, 895.0, 242.0, 876.0, 255.0, 1464.0, 762.0, 220.0, 1122.3355712890625, 362.7098693847656, 300.6807556152344, 303.5894470214844, 174.3617706298828, 190.66062927246094, 156.912841796875, 148.20663452148438, 153.02757263183594, 151.1289825439453, 154.9646759033203, 153.029052734375, 150.115966796875, 148.17625427246094, 147.21717834472656, 207.86537170410156, 280.1575012207031, 260.4805603027344, 151.8970184326172, 169.130859375, 357.69952392578125, 226.65914916992188, 278.1911926269531, 405.6625061035156, 167.8402862548828, 94.635986328125, 123.20425415039062, 228.9462127685547, 161.76792907714844, 114.66526794433594, 1115.103759765625, 725.6915893554688, 311.8348693847656, 270.98724365234375, 542.0387573242188, 420.90802001953125, 761.126220703125, 345.1275939941406, 244.6720733642578, 200.3875274658203, 536.9979248046875, 1361.9998779296875, 2698.1875, 1214.82373046875, 471.3623046875, 537.5391235351562, 1419.2579345703125, 253.62327575683594, 251.38999938964844, 715.1878051757812, 368.2636413574219, 712.8141479492188, 317.4688720703125, 670.6598510742188, 1336.67919921875, 1252.603271484375, 990.460205078125, 497.08880615234375, 771.218994140625, 390.35296630859375, 679.2638549804688, 679.9562377929688, 4708.47119140625, 483.0009460449219, 669.4285278320312, 562.2955932617188, 848.04931640625, 439.25372314453125, 691.2738647460938, 581.501220703125, 596.9852294921875, 726.4774169921875, 639.4833374023438, 506.17437744140625, 706.1849975585938, 413.0835266113281, 206.20989990234375, 219.14944458007812, 211.72552490234375, 186.15106201171875, 154.91958618164062, 130.4616241455078, 109.01025390625, 260.153076171875, 90.81782531738281, 90.71404266357422, 91.45846557617188, 57.16976547241211, 50.934593200683594, 46.787593841552734, 44.44264221191406, 44.44264221191406, 44.44257354736328, 211.27499389648438, 200.05181884765625, 458.1508483886719, 36.371620178222656, 28.91998863220215, 28.586353302001953, 233.34085083007812, 24.265167236328125, 25.58849334716797, 20.510364532470703, 20.40355682373047, 251.2731170654297, 294.562744140625, 152.2884063720703, 504.8402099609375, 480.0666198730469, 42.8042106628418, 152.6560516357422, 57.39418411254883, 199.41510009765625, 116.8667984008789, 82.58607482910156, 99.62409210205078, 74.6359634399414, 79.23792266845703, 75.32865905761719, 80.84075927734375, 63.709991455078125, 63.709991455078125, 71.22586822509766, 103.59696960449219, 91.37938690185547, 69.902587890625, 35.414825439453125, 35.414825439453125, 35.414825439453125, 72.7345199584961, 38.188323974609375, 31.877933502197266, 32.047367095947266, 35.666648864746094, 35.46450424194336, 72.85645294189453, 31.956533432006836, 111.9399185180664, 36.10552978515625, 18.445955276489258, 68.37818908691406, 35.635677337646484, 32.98992156982422, 18.88260269165039, 14.335139274597168, 41.28057098388672, 45.5734748840332, 65.24971771240234, 10.891233444213867, 10.885908126831055, 62.673458099365234, 43.016387939453125, 54.42731475830078, 72.1556167602539, 112.26404571533203, 478.1258544921875, 80.12606048583984, 116.5470199584961, 48.096092224121094, 68.46795654296875, 61.137577056884766, 62.79168701171875, 86.67742156982422, 94.43336486816406, 51.8360595703125, 77.04449462890625, 58.641082763671875, 53.0687255859375, 51.98323059082031, 48.13005065917969, 48.195499420166016, 262.256591796875, 332.4754943847656, 160.12075805664062, 140.1195831298828, 281.6270751953125, 120.1854019165039, 120.1649398803711, 125.78253936767578, 120.1482162475586, 121.10592651367188, 127.86007690429688, 119.1024398803711, 116.37692260742188, 103.6683578491211, 100.18206024169922, 81.05793762207031, 84.5333251953125, 81.01862335205078, 81.00879669189453, 80.20091247558594, 80.20091247558594, 83.5722885131836, 81.4318618774414, 83.09903717041016, 81.88609313964844, 81.75392150878906, 160.8311767578125, 81.2491683959961, 65.6144790649414, 66.111328125, 1372.343017578125, 242.4168701171875, 447.65936279296875, 112.83222961425781, 897.9056396484375, 533.586669921875, 162.06082153320312, 384.4093933105469, 105.41165161132812, 151.79977416992188, 405.587158203125, 142.09593200683594, 263.65545654296875, 325.76812744140625, 155.7335968017578, 165.51922607421875, 141.10931396484375, 994.0491333007812, 717.818359375, 5927.68603515625, 263.3907775878906, 871.08984375, 480.2227783203125, 339.82965087890625, 379.25213623046875, 720.9290161132812, 304.8513488769531, 965.5990600585938, 703.38818359375, 790.8832397460938, 374.08984375, 349.156982421875, 434.5560607910156, 264.3273620605469, 330.7530517578125, 304.9674072265625, 472.061279296875, 564.8087158203125, 406.7335205078125, 376.8556823730469, 365.7510986328125, 537.8033447265625, 385.42364501953125, 490.1330261230469, 417.53704833984375, 409.5776062011719, 373.72503662109375, 353.708251953125, 241.11000061035156, 82.95618438720703, 114.09111785888672, 55.83869552612305, 49.95811080932617, 50.40072250366211, 40.02372360229492, 40.94546127319336, 39.10643005371094, 39.10312271118164, 62.43827819824219, 31.95463752746582, 31.188796997070312, 30.867021560668945, 45.24286651611328, 30.038127899169922, 30.038127899169922, 31.144733428955078, 40.44594192504883, 50.066795349121094, 60.37477493286133, 21.94403076171875, 29.551034927368164, 20.39436912536621, 20.395118713378906, 20.39717674255371, 20.067903518676758, 20.067903518676758, 20.067903518676758, 20.072315216064453, 60.42720413208008, 31.372774124145508, 30.331985473632812, 126.63667297363281, 64.4360122680664, 61.88472366333008, 42.44914627075195, 83.06745910644531, 71.07979583740234, 152.6342315673828, 158.25601196289062, 211.00917053222656, 68.42475128173828, 133.12469482421875, 46.90311813354492, 40.299747467041016, 71.13859558105469, 97.92697143554688, 182.89166259765625, 480.6337585449219, 293.07470703125, 347.0353698730469, 94.44764709472656, 182.28147888183594, 69.5709228515625, 261.9252014160156, 142.82022094726562, 165.4171905517578, 184.12435913085938, 307.8493957519531, 95.08015441894531, 139.55154418945312, 174.94883728027344, 191.95855712890625, 118.12908935546875, 100.32711791992188, 169.7611541748047, 133.826416015625, 87.82463836669922, 116.44593048095703, 192.99818420410156, 121.69320678710938], \"Term\": [\"enron\", \"money\", \"td\", \"net\", \"image\", \"message\", \"e\", \"tr\", \"pm\", \"hou\", \"original\", \"width\", \"class\", \"market\", \"please\", \"energy\", \"right\", \"know\", \"mail\", \"development\", \"thanks\", \"table\", \"height\", \"day\", \"br\", \"service\", \"clear\", \"time\", \"see\", \"src\", \"bakernet\", \"retirement\", \"donate\", \"declared\", \"urge\", \"thousand\", \"urging\", \"astronomical\", \"netted\", \"wiped\", \"aggressively\", \"afford\", \"devastated\", \"pocketbook\", \"underhanded\", \"income\", \"reported\", \"worker\", \"repair\", \"hurt\", \"alert\", \"crisis\", \"court\", \"investor\", \"relief\", \"labour\", \"employer\", \"sold\", \"bankrupt\", \"pension\", \"million\", \"mr\", \"profit\", \"largest\", \"lay\", \"investment\", \"fund\", \"saving\", \"lost\", \"sec\", \"share\", \"stock\", \"company\", \"said\", \"york\", \"consumer\", \"employee\", \"partnership\", \"bush\", \"california\", \"security\", \"plan\", \"american\", \"state\", \"energy\", \"new\", \"year\", \"pay\", \"business\", \"dynegy\", \"mailto\", \"made\", \"enron\", \"say\", \"one\", \"last\", \"time\", \"many\", \"market\", \"u\", \"power\", \"e\", \"would\", \"also\", \"td\", \"width\", \"img\", \"src\", \"align\", \"href\", \"nbsp\", \"scoop\", \"bodydefault\", \"height\", \"cellspacing\", \"cellpadding\", \"font\", \"valign\", \"bgcolor\", \"colspan\", \"coords\", \"rect\", \"stocklookup\", \"script\", \"gif\", \"tr\", \"linkbarseperator\", \"ffffff\", \"euci\", \"br\", \"underscore\", \"tab\", \"realtime\", \"fname\", \"table\", \"class\", \"border\", \"net\", \"money\", \"map\", \"clear\", \"wrap\", \"image\", \"center\", \"conference\", \"right\", \"start\", \"f\", \"end\", \"market\", \"ctr\", \"syncrasy\", \"rk\", \"wscc\", \"outage\", \"nc\", \"npcc\", \"ecar\", \"std\", \"sw\", \"pt\", \"frcc\", \"serc\", \"mapp\", \"deviation\", \"hp\", \"maac\", \"sp\", \"min\", \"backout\", \"matrix\", \"enlarge\", \"temp\", \"impacted\", \"epenergy\", \"delta\", \"gift\", \"amazon\", \"graf\", \"mage\", \"thru\", \"reg\", \"fri\", \"nw\", \"ne\", \"image\", \"ct\", \"se\", \"sat\", \"range\", \"volatility\", \"scheduled\", \"click\", \"e\", \"standard\", \"pm\", \"day\", \"energy\", \"please\", \"team\", \"p\", \"devon\", \"enronxgate\", \"sfs\", \"exotica\", \"whalley\", \"bergfelt\", \"tyrell\", \"harrison\", \"hanagriff\", \"barbo\", \"curve\", \"pep\", \"bradford\", \"kern\", \"neumin\", \"pcg\", \"buchanan\", \"xll\", \"commoditylogic\", \"gregwhalley\", \"eix\", \"fran\", \"addin\", \"lavorato\", \"krishna\", \"kowalke\", \"ena\", \"mmbtu\", \"gorny\", \"vladimir\", \"hou\", \"lynn\", \"forwarded\", \"pdx\", \"development\", \"greg\", \"darrell\", \"na\", \"mcconnell\", \"blair\", \"desk\", \"schoolcraft\", \"ee\", \"attached\", \"rick\", \"ben\", \"kay\", \"pm\", \"thanks\", \"enron\", \"williams\", \"corp\", \"john\", \"paul\", \"credit\", \"gas\", \"kim\", \"please\", \"original\", \"message\", \"option\", \"request\", \"mark\", \"december\", \"january\", \"file\", \"know\", \"would\", \"question\", \"call\", \"need\", \"e\", \"group\", \"time\", \"may\", \"market\", \"also\", \"service\", \"wj\", \"hourahead\", \"aaaaaaaaaaaaaaaaaaaaaaaaaaaaaaaaaaaaaaaaaaaaaaaaaaaaaaaaaaaaaaaaaaaaaaaaaaaa\", \"variance\", \"tagline\", \"enform\", \"agave\", \"detected\", \"parsing\", \"westdesk\", \"laurel\", \"locate\", \"interchange\", \"lover\", \"bt\", \"veggie\", \"vegetarian\", \"headcount\", \"bolt\", \"cherry\", \"pseg\", \"audrey\", \"aggies\", \"alicia\", \"mansoor\", \"archer\", \"strick\", \"mawhitt\", \"filet\", \"russanboy\", \"savita\", \"baughman\", \"emailed\", \"log\", \"tonight\", \"adult\", \"sample\", \"beth\", \"password\", \"recipient\", \"intended\", \"schedule\", \"businessweek\", \"fw\", \"matt\", \"txt\", \"preferred\", \"play\", \"final\", \"message\", \"mail\", \"original\", \"material\", \"team\", \"ok\", \"know\", \"november\", \"thursday\", \"let\", \"e\", \"jason\", \"go\", \"thanks\", \"pm\", \"use\", \"start\", \"please\", \"like\", \"id\", \"get\", \"enron\", \"may\"], \"Total\": [10877.0, 803.0, 708.0, 789.0, 710.0, 1356.0, 1684.0, 469.0, 1301.0, 1399.0, 1072.0, 414.0, 379.0, 1187.0, 1588.0, 1593.0, 577.0, 898.0, 689.0, 961.0, 928.0, 276.0, 262.0, 895.0, 242.0, 876.0, 255.0, 1464.0, 762.0, 220.0, 1123.6190185546875, 363.5236511230469, 301.37347412109375, 304.28955078125, 174.98060607910156, 191.37506103515625, 157.51248168945312, 148.7751922607422, 153.61744689941406, 151.7169647216797, 155.56857299804688, 153.6279296875, 150.7146759033203, 148.76986694335938, 147.81324768066406, 208.7318572998047, 281.376708984375, 261.6229248046875, 152.57000732421875, 169.9409637451172, 359.55426025390625, 227.8629608154297, 279.7275085449219, 407.9169006347656, 168.81362915039062, 95.21324157714844, 123.97923278808594, 230.48829650878906, 162.8701629638672, 115.45304107666016, 1124.8642578125, 733.0043334960938, 314.25189208984375, 272.8940124511719, 551.1603393554688, 429.7379150390625, 787.8958740234375, 351.6105041503906, 247.5501708984375, 202.0164031982422, 552.6446533203125, 1437.8565673828125, 2912.19775390625, 1284.084228515625, 485.6202392578125, 558.7177124023438, 1521.7386474609375, 257.9928283691406, 255.64120483398438, 770.8781127929688, 382.4526672363281, 772.7347412109375, 326.9466552734375, 740.9525756835938, 1593.906005859375, 1548.2615966796875, 1199.46142578125, 549.94677734375, 923.8422241210938, 419.35980224609375, 828.350830078125, 846.6248168945312, 10877.3759765625, 572.08935546875, 949.5036010742188, 734.2615966796875, 1464.864501953125, 513.9891357421875, 1187.1328125, 884.2991943359375, 999.4381103515625, 1684.121826171875, 1326.0867919921875, 933.867431640625, 708.1669921875, 414.3631896972656, 207.25985717773438, 220.3025360107422, 212.9649658203125, 187.27529907226562, 155.98240661621094, 131.52316284179688, 109.98033142089844, 262.71282958984375, 91.8590316772461, 91.76578521728516, 92.97352600097656, 58.2382698059082, 51.99298858642578, 47.78136444091797, 45.411285400390625, 45.411285400390625, 45.411293029785156, 216.1553955078125, 204.86065673828125, 469.72894287109375, 37.34016799926758, 29.896821975708008, 29.593242645263672, 242.25894165039062, 25.23346519470215, 26.61674690246582, 21.482725143432617, 21.37313461303711, 276.07513427734375, 379.10791015625, 198.50131225585938, 789.1757202148438, 803.2105712890625, 48.48054885864258, 255.1572265625, 73.64024353027344, 710.656005859375, 280.444091796875, 263.25152587890625, 577.87451171875, 271.9967346191406, 378.434326171875, 437.0690612792969, 1187.1328125, 64.82002258300781, 64.82002258300781, 72.58634185791016, 105.76394653320312, 93.49285888671875, 71.87425994873047, 36.46452713012695, 36.46452713012695, 36.46452713012695, 75.00817108154297, 39.391845703125, 32.92009353637695, 33.11912536621094, 36.8842658996582, 36.79960632324219, 75.6620101928711, 33.60027313232422, 117.79131317138672, 38.071502685546875, 19.47032928466797, 72.50936889648438, 37.914329528808594, 35.22426223754883, 20.161516189575195, 15.383472442626953, 44.42532730102539, 49.29479217529297, 71.07952880859375, 11.880834579467773, 11.88523006439209, 68.58537292480469, 47.39259338378906, 60.13695526123047, 82.02686309814453, 133.033447265625, 710.656005859375, 100.07867431640625, 168.5410919189453, 64.33402252197266, 120.5591812133789, 98.63219451904297, 140.77450561523438, 330.55401611328125, 1684.121826171875, 168.722412109375, 1301.00439453125, 895.3134765625, 1593.906005859375, 1588.5311279296875, 443.00048828125, 514.4007568359375, 263.0108947753906, 334.01531982421875, 160.88816833496094, 140.88839721679688, 283.2966003417969, 120.93638610839844, 120.92097473144531, 126.574462890625, 120.91150665283203, 121.87773895263672, 128.71510314941406, 119.90730285644531, 117.19183349609375, 104.43192291259766, 100.93617248535156, 81.80911254882812, 85.3185806274414, 81.7753677368164, 81.76588439941406, 80.95187377929688, 80.95187377929688, 84.35923767089844, 82.2155532836914, 83.90156555175781, 82.6810073852539, 82.57582092285156, 162.6770477294922, 82.18473052978516, 66.37994384765625, 66.8948974609375, 1399.4268798828125, 246.6396484375, 464.6575622558594, 114.55304718017578, 961.2970581054688, 562.3712158203125, 166.33700561523438, 405.4435729980469, 107.05944061279297, 156.5911407470703, 436.09075927734375, 146.35317993164062, 280.4377136230469, 354.0439453125, 162.55136108398438, 173.70242309570312, 146.96954345703125, 1301.00439453125, 928.9901733398438, 10877.3759765625, 300.99798583984375, 1215.809326171875, 608.8129272460938, 406.6925964355469, 464.9320068359375, 1027.7037353515625, 371.1409912109375, 1588.5311279296875, 1072.6331787109375, 1356.8800048828125, 508.24066162109375, 464.23980712890625, 643.0703125, 332.2796325683594, 460.3529357910156, 420.980712890625, 898.4891357421875, 1326.0867919921875, 721.1348876953125, 635.7673950195312, 616.8496704101562, 1684.121826171875, 719.4299926757812, 1464.864501953125, 1002.6534423828125, 1187.1328125, 933.867431640625, 876.0, 242.09921264648438, 83.93598937988281, 115.4552993774414, 56.78825378417969, 50.89024353027344, 51.34685516357422, 40.91692352294922, 41.8877067565918, 40.053497314453125, 40.05126190185547, 64.07769775390625, 32.858055114746094, 32.08430480957031, 31.779592514038086, 46.58327865600586, 30.930503845214844, 30.930503845214844, 32.07573699951172, 41.673728942871094, 51.62504577636719, 62.76274108886719, 22.844356536865234, 30.782262802124023, 21.28485679626465, 21.29254722595215, 21.298452377319336, 20.958532333374023, 20.958532333374023, 20.958532333374023, 20.967206954956055, 63.35463333129883, 32.8228645324707, 31.78891944885254, 135.35923767089844, 68.4663314819336, 65.93506622314453, 45.498374938964844, 95.21014404296875, 82.78006744384766, 210.62921142578125, 222.34033203125, 318.06488037109375, 84.74627685546875, 200.53506469726562, 53.61457443237305, 44.43012619018555, 93.35221862792969, 143.56704711914062, 344.818603515625, 1356.8800048828125, 689.8099975585938, 1072.6331787109375, 149.8657989501953, 443.00048828125, 97.68289947509766, 898.4891357421875, 339.33026123046875, 472.5948486328125, 602.0044555664062, 1684.121826171875, 175.17074584960938, 483.9972229003906, 928.9901733398438, 1301.00439453125, 398.11114501953125, 271.9967346191406, 1588.5311279296875, 735.021484375, 195.19903564453125, 688.449462890625, 10877.3759765625, 1002.6534423828125], \"loglift\": [30.0, 29.0, 28.0, 27.0, 26.0, 25.0, 24.0, 23.0, 22.0, 21.0, 20.0, 19.0, 18.0, 17.0, 16.0, 15.0, 14.0, 13.0, 12.0, 11.0, 10.0, 9.0, 8.0, 7.0, 6.0, 5.0, 4.0, 3.0, 2.0, 1.0, 0.5885000228881836, 0.5874000191688538, 0.5874000191688538, 0.5874000191688538, 0.5860999822616577, 0.5859000086784363, 0.5859000086784363, 0.5857999920845032, 0.5857999920845032, 0.5857999920845032, 0.5857999920845032, 0.5857999920845032, 0.5856999754905701, 0.5856999754905701, 0.5856000185012817, 0.5855000019073486, 0.5853000283241272, 0.5853000283241272, 0.5853000283241272, 0.5849000215530396, 0.5845000147819519, 0.5843999981880188, 0.5842000246047974, 0.5841000080108643, 0.583899974822998, 0.5835999846458435, 0.5834000110626221, 0.5830000042915344, 0.5828999876976013, 0.5827999711036682, 0.5809999704360962, 0.5795999765396118, 0.5820000171661377, 0.5827000141143799, 0.5730000138282776, 0.5688999891281128, 0.5551000237464905, 0.5710999965667725, 0.578000009059906, 0.58160001039505, 0.5609999895095825, 0.5354999899864197, 0.5133000016212463, 0.5342000126838684, 0.5598999857902527, 0.5509999990463257, 0.5199999809265137, 0.5726000070571899, 0.5728999972343445, 0.5146999955177307, 0.5519000291824341, 0.5090000033378601, 0.5602999925613403, 0.49000000953674316, 0.41370001435279846, 0.37779998779296875, 0.39820000529289246, 0.4885999858379364, 0.4090999960899353, 0.5180000066757202, 0.3912000060081482, 0.37040001153945923, -0.2476000040769577, 0.4203999936580658, 0.2401999980211258, 0.32280001044273376, 0.04309999942779541, 0.4325000047683716, 0.048900000751018524, 0.1704999953508377, 0.07440000027418137, -0.25110000371932983, -0.1396999955177307, -0.02280000038444996, 3.3998000621795654, 3.3994998931884766, 3.3975000381469727, 3.39739990234375, 3.3968000411987305, 3.3966000080108643, 3.3958001136779785, 3.3945000171661377, 3.3938000202178955, 3.3928000926971436, 3.391200065612793, 3.3910999298095703, 3.386199951171875, 3.3840999603271484, 3.3821001052856445, 3.3815999031066895, 3.3810999393463135, 3.3810999393463135, 3.3810999393463135, 3.3798000812530518, 3.3789000511169434, 3.377700090408325, 3.376300096511841, 3.3694000244140625, 3.368000030517578, 3.3650999069213867, 3.3635001182556152, 3.3631999492645264, 3.356300115585327, 3.3561999797821045, 3.308500051498413, 3.1503000259399414, 3.1375999450683594, 2.955899953842163, 2.8879001140594482, 3.27810001373291, 2.8889000415802, 3.15339994430542, 2.1317999362945557, 2.5272998809814453, 2.2434000968933105, 1.644700050354004, 2.109499931335449, 1.8389999866485596, 1.6444000005722046, 0.7157999873161316, 3.5202999114990234, 3.5202999114990234, 3.518699884414673, 3.516900062561035, 3.514699935913086, 3.5097999572753906, 3.5083999633789062, 3.5083999633789062, 3.5083999633789062, 3.5067999362945557, 3.506500005722046, 3.5053999423980713, 3.504699945449829, 3.503999948501587, 3.5006000995635986, 3.499799966812134, 3.4874000549316406, 3.486599922180176, 3.484600067138672, 3.4835000038146973, 3.4788999557495117, 3.475600004196167, 3.4719998836517334, 3.4719998836517334, 3.4670000076293945, 3.464200019836426, 3.4591000080108643, 3.4519999027252197, 3.4505999088287354, 3.449700117111206, 3.4474000930786133, 3.440700054168701, 3.4377999305725098, 3.4093000888824463, 3.367799997329712, 3.1412999629974365, 3.315200090408325, 3.1686999797821045, 3.2467000484466553, 2.9718000888824463, 3.059299945831299, 2.7302000522613525, 2.1989998817443848, 0.656499981880188, 2.3573999404907227, 0.7110999822616577, 0.8118000030517578, 0.13519999384880066, 0.11789999902248383, 1.3178999423980713, 1.169800043106079, 1.1902999877929688, 1.188599944114685, 1.1884000301361084, 1.1877000331878662, 1.1872999668121338, 1.187000036239624, 1.186900019645691, 1.186900019645691, 1.186900019645691, 1.1868000030517578, 1.1864999532699585, 1.1864999532699585, 1.1862000226974487, 1.1858999729156494, 1.1857000589370728, 1.184000015258789, 1.183899998664856, 1.183899998664856, 1.183899998664856, 1.183899998664856, 1.183899998664856, 1.1837999820709229, 1.1835999488830566, 1.1835999488830566, 1.183500051498413, 1.1832000017166138, 1.1818000078201294, 1.1816999912261963, 1.1815999746322632, 1.181399941444397, 1.173699975013733, 1.1758999824523926, 1.155900001525879, 1.1780999898910522, 1.125, 1.1406999826431274, 1.167199969291687, 1.1398999691009521, 1.1777000427246094, 1.1620999574661255, 1.1207000017166138, 1.163699984550476, 1.131500005722046, 1.1100000143051147, 1.1503000259399414, 1.1448999643325806, 1.152500033378601, 0.9240999817848206, 0.9352999925613403, 0.5860999822616577, 1.0597000122070312, 0.8597999811172485, 0.9559000134468079, 1.0135999917984009, 0.9894999861717224, 0.838699996471405, 0.996399998664856, 0.6953999996185303, 0.7712000012397766, 0.6534000039100647, 0.8866999745368958, 0.90829998254776, 0.8012999892234802, 0.9643999934196472, 0.8626000285148621, 0.8708000183105469, 0.5496000051498413, 0.33970001339912415, 0.6205000281333923, 0.670199990272522, 0.6704999804496765, 0.05169999971985817, 0.569100022315979, 0.09839999675750732, 0.3172000050544739, 0.1289999932050705, 0.2773999869823456, 0.28630000352859497, 2.523200035095215, 2.5155999660491943, 2.515500068664551, 2.510499954223633, 2.5088999271392822, 2.508699893951416, 2.5053000450134277, 2.5046000480651855, 2.5034000873565674, 2.5034000873565674, 2.5013999938964844, 2.499500036239624, 2.499000072479248, 2.498199939727783, 2.4981000423431396, 2.4981000423431396, 2.4981000423431396, 2.4979000091552734, 2.4974000453948975, 2.4967000484466553, 2.4885001182556152, 2.4870998859405518, 2.4865000247955322, 2.484600067138672, 2.484299898147583, 2.484100103378296, 2.4839000701904297, 2.4839000701904297, 2.4839000701904297, 2.4837000370025635, 2.4800000190734863, 2.4821999073028564, 2.4804000854492188, 2.460700035095215, 2.4667000770568848, 2.463900089263916, 2.4579999446868896, 2.390899896621704, 2.375, 2.2053000926971436, 2.187299966812134, 2.117000102996826, 2.3134000301361084, 2.1175999641418457, 2.3935999870300293, 2.429800033569336, 2.2555999755859375, 2.1447999477386475, 1.8932000398635864, 1.4895000457763672, 1.6713000535964966, 1.398900032043457, 2.0655999183654785, 1.639299988746643, 2.187999963760376, 1.294700026512146, 1.6619999408721924, 1.4775999784469604, 1.3427000045776367, 0.8278999924659729, 1.9163000583648682, 1.2836999893188477, 0.857699990272522, 0.6136999726295471, 1.312399983406067, 1.5299999713897705, 0.29120001196861267, 0.8240000009536743, 1.728700041770935, 0.7502999901771545, -1.5044000148773193, 0.41839998960494995], \"logprob\": [30.0, 29.0, 28.0, 27.0, 26.0, 25.0, 24.0, 23.0, 22.0, 21.0, 20.0, 19.0, 18.0, 17.0, 16.0, 15.0, 14.0, 13.0, 12.0, 11.0, 10.0, 9.0, 8.0, 7.0, 6.0, 5.0, 4.0, 3.0, 2.0, 1.0, -5.3850998878479, -6.514699935913086, -6.702300071716309, -6.692599773406982, -7.247200012207031, -7.157800197601318, -7.35260009765625, -7.4096999168396, -7.377699851989746, -7.390200138092041, -7.365099906921387, -7.377699851989746, -7.396900177001953, -7.409900188446045, -7.416399955749512, -7.071400165557861, -6.7729997634887695, -6.845799922943115, -7.3850998878479, -7.277599811553955, -6.528600215911865, -6.984899997711182, -6.78000020980835, -6.4028000831604, -7.285299777984619, -7.85830020904541, -7.5945000648498535, -6.974800109863281, -7.3221001625061035, -7.666299819946289, -5.391600131988525, -5.821199893951416, -6.665800094604492, -6.80620002746582, -6.11299991607666, -6.365900039672852, -5.773499965667725, -6.5644001960754395, -6.908400058746338, -7.108099937438965, -6.122300148010254, -5.1915998458862305, -4.507999897003174, -5.306000232696533, -6.252699851989746, -6.121300220489502, -5.150400161743164, -6.872499942779541, -6.88129997253418, -5.8358001708984375, -6.499499797821045, -5.839099884033203, -6.647900104522705, -5.900000095367432, -5.210400104522705, -5.275300025939941, -5.5100998878479, -6.19950008392334, -5.760300159454346, -6.441299915313721, -5.88730001449585, -5.886300086975098, -3.951200008392334, -6.228300094604492, -5.901899814605713, -6.076300144195557, -5.66540002822876, -6.323200225830078, -5.869800090789795, -6.042699813842773, -6.01639986038208, -5.820099830627441, -5.9475998878479, -6.181399822235107, -3.0355000495910645, -3.571700096130371, -4.266499996185303, -4.205599784851074, -4.240099906921387, -4.368800163269043, -4.552499771118164, -4.724299907684326, -4.903900146484375, -4.03410005569458, -5.08650016784668, -5.087600231170654, -5.079500198364258, -5.549300193786621, -5.66480016708374, -5.74970006942749, -5.801199913024902, -5.801199913024902, -5.801199913024902, -4.242199897766113, -4.296800136566162, -3.4681999683380127, -6.0015997886657715, -6.230800151824951, -6.242400169372559, -4.142899990081787, -6.406300067901611, -6.3531999588012695, -6.574399948120117, -6.579699993133545, -4.06879997253418, -3.909899950027466, -4.5696001052856445, -3.3710999488830566, -3.4214000701904297, -5.838699817657471, -4.567200183868408, -5.545400142669678, -4.300000190734863, -4.8343000411987305, -5.18149995803833, -4.99399995803833, -5.282700061798096, -5.222899913787842, -5.273499965667725, -5.202899932861328, -5.306099891662598, -5.306099891662598, -5.1946001052856445, -4.819900035858154, -4.945400238037109, -5.2133002281188965, -5.8933000564575195, -5.8933000564575195, -5.8933000564575195, -5.173600196838379, -5.81790018081665, -5.998499870300293, -5.993199825286865, -5.886199951171875, -5.891900062561035, -5.171899795532227, -5.995999813079834, -4.742400169372559, -5.874000072479248, -6.545599937438965, -5.235400199890137, -5.8871002197265625, -5.964200019836426, -6.522200107574463, -6.797699928283691, -5.739999771118164, -5.64109992980957, -5.282199859619141, -7.072500228881836, -7.07289981842041, -5.322500228881836, -5.698800086975098, -5.463500022888184, -5.181600093841553, -4.73960018157959, -3.2904999256134033, -5.0767998695373535, -4.702099800109863, -5.587200164794922, -5.234000205993652, -5.347300052642822, -5.3206000328063965, -4.998199939727783, -4.912499904632568, -5.51230001449585, -5.116000175476074, -5.388999938964844, -5.488800048828125, -5.509500026702881, -5.58650016784668, -5.585100173950195, -6.235499858856201, -5.998199939727783, -6.728899955749512, -6.862299919128418, -6.1641998291015625, -7.0157999992370605, -7.015900135040283, -6.970200061798096, -7.01609992980957, -7.0081000328063965, -6.953800201416016, -7.024799823760986, -7.047999858856201, -7.163599967956543, -7.197800159454346, -7.409599781036377, -7.367599964141846, -7.410099983215332, -7.410200119018555, -7.420300006866455, -7.420300006866455, -7.3790998458862305, -7.40500020980835, -7.384799957275391, -7.399499893188477, -7.401100158691406, -6.724400043487549, -7.407299995422363, -7.620999813079834, -7.613399982452393, -4.58050012588501, -6.3140997886657715, -5.700799942016602, -7.07889986038208, -5.004700183868408, -5.525199890136719, -6.716800212860107, -5.853099822998047, -7.146900177001953, -6.782199859619141, -5.7993998527526855, -6.848299980163574, -6.230100154876709, -6.018599987030029, -6.7565999031066895, -6.695700168609619, -6.855299949645996, -4.9029998779296875, -5.228600025177002, -3.1173999309539795, -6.231100082397461, -5.034999847412109, -5.630499839782715, -5.97629976272583, -5.866600036621094, -5.2241997718811035, -6.085000038146973, -4.932000160217285, -5.248899936676025, -5.1315999031066895, -5.880300045013428, -5.9492998123168945, -5.730500221252441, -6.22760009765625, -6.003399848937988, -6.08459997177124, -5.64769983291626, -5.468299865722656, -5.796599864959717, -5.872900009155273, -5.9028000831604, -5.517300128936768, -5.850399971008301, -5.610099792480469, -5.770400047302246, -5.789700031280518, -5.88129997253418, -5.936299800872803, -4.985400199890137, -6.052299976348877, -5.73360013961792, -6.448200225830078, -6.559500217437744, -6.550600051879883, -6.781199932098389, -6.758399963378906, -6.8043999671936035, -6.8043999671936035, -6.33650016784668, -7.00629997253418, -7.030600070953369, -7.040999889373779, -6.658599853515625, -7.06820011138916, -7.06820011138916, -7.0320000648498535, -6.770699977874756, -6.557300090789795, -6.370100021362305, -7.3821001052856445, -7.084499835968018, -7.455399990081787, -7.4552998542785645, -7.4552001953125, -7.471499919891357, -7.471499919891357, -7.471499919891357, -7.47130012512207, -6.369200229644775, -7.024700164794922, -7.0584001541137695, -5.629300117492676, -6.304999828338623, -6.345399856567383, -6.722300052642822, -6.051000118255615, -6.2067999839782715, -5.442599773406982, -5.406400203704834, -5.11870002746582, -6.244900226593018, -5.579400062561035, -6.622600078582764, -6.7743000984191895, -6.205999851226807, -5.88640022277832, -5.26170015335083, -4.295499801635742, -4.790200233459473, -4.621200084686279, -5.922599792480469, -5.265100002288818, -6.228300094604492, -4.902599811553955, -5.509099960327148, -5.362199783325195, -5.255000114440918, -4.741000175476074, -5.915900230407715, -5.532199859619141, -5.30620002746582, -5.213399887084961, -5.69890022277832, -5.862199783325195, -5.336299896240234, -5.574100017547607, -5.995299816131592, -5.713200092315674, -5.208000183105469, -5.669099807739258]}, \"token.table\": {\"Topic\": [1, 5, 1, 4, 1, 5, 1, 1, 5, 1, 5, 1, 1, 4, 5, 1, 5, 1, 2, 1, 2, 4, 5, 1, 2, 3, 1, 3, 4, 1, 5, 1, 1, 3, 4, 5, 1, 5, 1, 3, 1, 4, 1, 4, 1, 4, 1, 4, 5, 1, 3, 4, 1, 4, 1, 4, 5, 1, 2, 1, 4, 1, 2, 1, 5, 1, 2, 4, 1, 2, 4, 1, 4, 1, 5, 1, 4, 1, 4, 1, 2, 4, 5, 1, 5, 1, 4, 5, 1, 3, 4, 5, 1, 2, 1, 2, 1, 2, 3, 4, 1, 4, 5, 1, 2, 3, 4, 1, 2, 4, 1, 2, 3, 4, 5, 1, 2, 1, 4, 1, 2, 3, 4, 5, 1, 2, 4, 1, 2, 3, 4, 1, 2, 1, 2, 3, 4, 5, 1, 4, 1, 4, 5, 1, 4, 1, 3, 4, 1, 3, 1, 4, 1, 3, 4, 1, 2, 3, 4, 5, 1, 3, 4, 5, 1, 1, 3, 4, 1, 4, 1, 5, 1, 1, 4, 1, 3, 1, 4, 1, 1, 3, 4, 1, 2, 3, 4, 5, 1, 3, 1, 3, 4, 5, 1, 4, 1, 4, 5, 1, 3, 4, 1, 1, 4, 1, 2, 4, 5, 1, 2, 3, 4, 5, 1, 5, 1, 3, 1, 2, 3, 4, 5, 1, 4, 1, 3, 1, 2, 1, 4, 1, 2, 3, 4, 5, 1, 2, 1, 3, 4, 5, 1, 5, 1, 4, 5, 1, 2, 1, 2, 4, 1, 3, 4, 5, 1, 4, 1, 3, 1, 3, 4, 5, 1, 4, 5, 1, 4, 5, 1, 2, 3, 4, 5, 1, 2, 3, 4, 5, 1, 2, 1, 3, 5, 1, 2, 3, 4, 5, 1, 4, 1, 3, 1, 3, 4, 5, 1, 4, 1, 2, 3, 4, 5, 1, 4, 1, 4, 1, 5, 1, 2, 1, 3, 4, 5, 1, 5, 1, 3, 4, 1, 2, 1, 4, 1, 2, 3, 4, 5, 1, 2, 3, 4, 5, 1, 2, 1, 3, 1, 4, 1, 4, 5, 1, 5, 1, 4, 1, 4, 1, 3, 4, 5, 1, 4, 5, 1, 3, 4, 5, 1, 4, 5, 1, 4, 1, 3, 4, 5, 1, 3, 4, 5, 1, 4, 1, 4, 1, 1, 4, 1, 3, 4, 5, 1, 4, 5, 1, 4, 1, 4, 1, 3, 4, 5, 1, 2, 3, 4, 5, 1, 2, 1, 5, 1, 4, 5, 1, 4, 1, 5, 1, 4, 1, 3, 5, 1, 4, 5, 1, 3, 1, 2, 3, 4, 5, 1, 2, 4, 5, 1, 5, 1, 2, 4, 5, 1, 2, 3, 4, 1, 3, 1, 3, 4, 5, 1, 2, 3, 4, 5, 1, 4, 5, 1, 2, 3, 4, 1, 4, 5, 1, 5, 1, 3, 4, 5, 1, 4, 1, 2, 3, 4, 5, 1, 2, 4, 1, 3, 4, 1, 4, 1, 2, 4, 1, 4, 5, 1, 4, 1, 2, 1, 3, 1, 2, 3, 4, 1, 2, 3, 4, 5, 1, 2, 3, 4, 5, 1, 1, 4, 1, 2, 3, 4, 5, 1, 4, 5, 1, 3, 1, 3, 4, 5, 1, 3, 4, 5, 1, 3, 4, 5, 1, 2, 3, 4, 5, 1, 3, 4, 5, 1, 3, 4, 1, 2, 3, 4, 5, 1, 5, 1, 4, 1, 3, 4, 5, 1, 3, 4, 5, 1, 2, 3, 4, 5, 1, 4, 1, 4, 1, 4, 1, 4, 1, 3, 4, 5, 1, 4, 5, 1, 2, 3, 4, 5, 1, 3, 4, 5, 1, 1, 2, 3, 4, 5, 1, 4, 5, 1, 4, 1, 4, 5, 1, 3, 1, 2, 3, 4, 5, 1, 3, 4, 1, 2, 1, 4, 5, 1, 2, 1, 3, 4, 1, 4, 1, 1, 4, 1, 2, 3, 4, 5, 1, 4, 1, 3, 4, 1, 2, 4, 5, 1, 3, 1, 5, 1, 4, 5, 1, 4, 5, 1, 3, 4, 5, 1, 2, 4, 1, 4, 5, 1, 4, 5, 1, 4, 5, 1, 3, 4, 5, 1, 3, 4, 1, 2, 1, 2, 1, 2, 3, 4, 5, 1, 4, 1, 4, 5, 1, 3, 4, 5, 1, 3, 1, 2, 3, 4, 5, 1, 4, 1, 3, 4, 5, 1, 4, 1, 3, 5, 1, 2, 1, 3, 4, 1, 2, 3, 4, 5, 1, 3, 4, 5, 1, 3, 1, 2, 4, 5, 1, 2, 1, 5, 1, 2, 3, 4, 1, 3, 1, 2, 1, 2, 4, 1, 5, 1, 2, 4, 1, 3, 4, 5, 1, 3, 1, 2, 3, 4, 5, 1, 1, 3, 4, 1, 3, 4, 5, 1, 2, 3, 4, 5, 1, 4, 5, 1, 2, 4, 1, 5, 1, 4, 1, 2, 3, 4, 5, 1, 1, 2, 1, 1, 1, 2, 3, 4, 5, 1, 2, 1, 5, 1, 5, 1, 5, 1, 4, 1, 3, 4, 1, 5, 1, 4, 1, 2, 1, 3, 4, 5, 1, 1, 5, 1, 4, 1, 2, 3, 4, 5, 1, 2, 3, 4, 1, 2, 3, 1, 4, 1, 3, 4, 5, 1, 2, 4], \"Freq\": [0.0086613604798913, 0.9873951077461243, 0.012163148261606693, 0.9852150678634644, 0.06066574528813362, 0.9403190612792969, 0.9959126710891724, 0.024439765140414238, 0.9775906205177307, 0.032486241310834885, 0.9745872020721436, 0.9963452219963074, 0.9956772327423096, 0.0027812214102596045, 0.0027812214102596045, 0.04698175936937332, 0.939635157585144, 0.00469560781493783, 0.9954689145088196, 0.5418328046798706, 0.020345499739050865, 0.400485098361969, 0.03640773892402649, 0.014068747870624065, 0.05627499148249626, 0.9144686460494995, 0.9695771336555481, 0.012234412133693695, 0.015293014235794544, 0.046951767057180405, 0.9390353560447693, 0.9947894811630249, 0.011298032477498055, 0.019771557301282883, 0.9207896590232849, 0.048016637563705444, 0.04377448931336403, 0.9630387425422668, 0.051360201090574265, 0.924483597278595, 0.9985591173171997, 0.0008899813983589411, 0.9946573376655579, 0.006139860022813082, 0.008204943500459194, 0.9927982091903687, 0.03046656772494316, 0.03046656772494316, 0.9444635510444641, 0.02302788756787777, 0.02302788756787777, 0.9556573629379272, 0.008268809877336025, 0.9922571778297424, 0.010503082536160946, 0.11553391069173813, 0.871755838394165, 0.01923336274921894, 0.9809014797210693, 0.02554422989487648, 0.9706807136535645, 0.009092534892261028, 0.9910863041877747, 0.023995932191610336, 0.9598373174667358, 0.05541525036096573, 0.7657380104064941, 0.17632125318050385, 0.03302251547574997, 0.9617807865142822, 0.004127814434468746, 0.008533017709851265, 0.9898300766944885, 0.021466929465532303, 0.9660118818283081, 0.011720776557922363, 0.9962660074234009, 0.9818448424339294, 0.015646930783987045, 0.8345580697059631, 0.008659487590193748, 0.14179910719394684, 0.01407166663557291, 0.18879885971546173, 0.8023951053619385, 0.9275136590003967, 0.019458329305052757, 0.05318609997630119, 0.3271636664867401, 0.020447729155421257, 0.592984139919281, 0.06134318932890892, 0.01089730765670538, 0.9916549921035767, 0.010886245407164097, 0.9906483888626099, 0.4885109066963196, 0.4171954393386841, 0.046355050057172775, 0.046355050057172775, 0.019370442256331444, 0.019370442256331444, 0.9685221314430237, 0.20047062635421753, 0.7781425714492798, 0.018464399501681328, 0.002637771423906088, 0.2312299758195877, 0.5996302962303162, 0.16852355003356934, 0.3448755443096161, 0.09680717438459396, 0.2631945013999939, 0.01512612123042345, 0.28134584426879883, 0.02092866227030754, 0.9836471080780029, 0.012230039574205875, 0.9906331896781921, 0.9264480471611023, 0.0030904493760317564, 0.0013735330430790782, 0.06833326816558838, 0.0006867665215395391, 0.25071078538894653, 0.31528782844543457, 0.4368445575237274, 0.9629191756248474, 0.028637001290917397, 0.007159250322729349, 0.0017898125806823373, 0.022020958364009857, 0.9689221382141113, 0.1908193975687027, 0.001644994830712676, 0.018917439505457878, 0.7163951992988586, 0.07155727595090866, 0.993824303150177, 0.00357490754686296, 0.15916305780410767, 0.8151729702949524, 0.025810224935412407, 0.9962127804756165, 0.004388602450489998, 0.18985064327716827, 0.7993711233139038, 0.009992138482630253, 0.015427331440150738, 0.9873492121696472, 0.007769096177071333, 0.9944443106651306, 0.006011891178786755, 0.02404756471514702, 0.9739263653755188, 0.46352478861808777, 0.018987763673067093, 0.06589870899915695, 0.38198912143707275, 0.06924948841333389, 0.15348517894744873, 0.04514269903302193, 0.7945115566253662, 0.006019026972353458, 0.9990484118461609, 0.022509682923555374, 0.9228969812393188, 0.022509682923555374, 0.06879302114248276, 0.9309988617897034, 0.023873353376984596, 0.9788074493408203, 0.995258092880249, 0.06553645431995392, 0.9341545104980469, 0.0271742045879364, 0.9510971307754517, 0.0038021239452064037, 0.9961564540863037, 0.9987607598304749, 0.9299889802932739, 0.03338421881198883, 0.03338421881198883, 0.4310851991176605, 0.010688062757253647, 0.055815439671278, 0.3194543123245239, 0.18288463354110718, 0.027423912659287453, 0.9598369598388672, 0.053487811237573624, 0.003565854160115123, 0.9413855075836182, 0.003565854160115123, 0.0123530188575387, 0.9882414937019348, 0.03145750239491463, 0.03145750239491463, 0.943725049495697, 0.9324859976768494, 0.0026285722851753235, 0.06440001726150513, 0.9921016097068787, 0.012294297106564045, 0.9896909594535828, 0.3180275559425354, 0.17159759998321533, 0.39581844210624695, 0.1121104285120964, 0.8388198614120483, 0.0056465063244104385, 0.033251646906137466, 0.12045879662036896, 0.001882168697193265, 0.019475389271974564, 0.97376948595047, 0.02637525275349617, 0.9495090842247009, 0.432824969291687, 0.0001838678726926446, 0.0042289611883461475, 0.5449844002723694, 0.017743250355124474, 0.002993874717503786, 0.9939664006233215, 0.06500482559204102, 0.910067617893219, 0.033791497349739075, 0.9799534678459167, 0.007097816560417414, 0.9936943054199219, 0.5760576725006104, 0.20875485241413116, 0.03435206413269043, 0.05813426151871681, 0.1215534582734108, 0.03344837203621864, 0.9700027704238892, 0.06413595378398895, 0.0118770282715559, 0.7244987487792969, 0.19715867936611176, 0.0477132648229599, 0.954265296459198, 0.2784072458744049, 0.19140498340129852, 0.5307137966156006, 0.04678770899772644, 0.9357541799545288, 0.010755750350654125, 0.9787732362747192, 0.010755750350654125, 0.021521225571632385, 0.010760612785816193, 0.9641509056091309, 0.004304245114326477, 0.011854066513478756, 0.9957415461540222, 0.030376585200428963, 0.9720507264137268, 0.01662871055305004, 0.8979503512382507, 0.03325742110610008, 0.049886129796504974, 0.9658636450767517, 0.006346016190946102, 0.026653267443180084, 0.014959977008402348, 0.31914618611335754, 0.6632256507873535, 0.2325572967529297, 0.001946086180396378, 0.003892172360792756, 0.7015640735626221, 0.061301711946725845, 0.3950907289981842, 0.007262697443366051, 0.018883012235164642, 0.4110686480998993, 0.1684945821762085, 0.019525466486811638, 0.9762733578681946, 0.060858353972435, 0.9331614375114441, 0.020286118611693382, 0.479341596364975, 0.018595147877931595, 0.014462892897427082, 0.1983482390642166, 0.28925785422325134, 0.015064790844917297, 0.994276225566864, 0.0841691717505455, 0.9258608818054199, 0.007112739607691765, 0.007112739607691765, 0.9495507478713989, 0.0373418815433979, 0.0123530188575387, 0.9882414937019348, 0.4350666403770447, 0.00138998928014189, 0.01111991424113512, 0.5351458787918091, 0.018069861456751823, 0.008270511403679848, 0.9924613833427429, 0.007900487631559372, 0.9954614639282227, 0.031176213175058365, 0.9664626121520996, 0.007612875197082758, 0.9896737933158875, 0.01143325213342905, 0.0050020478665828705, 0.980401337146759, 0.002143734833225608, 0.011913840658962727, 0.9888487458229065, 0.026433344930410385, 0.9648171067237854, 0.013216672465205193, 0.005339732393622398, 0.9931902289390564, 0.9944629669189453, 0.005884396377950907, 0.32274749875068665, 0.08709059655666351, 0.02561488002538681, 0.11270547658205032, 0.4508219063282013, 0.040807366371154785, 0.2800229489803314, 0.6726179718971252, 0.0028143010567873716, 0.0028143010567873716, 0.004824860952794552, 0.9939213395118713, 0.04959944263100624, 0.9423894286155701, 0.9964938163757324, 0.004790835548192263, 0.10344502329826355, 0.1844019889831543, 0.7106223106384277, 0.031167887151241302, 0.9662045240402222, 0.9796668887138367, 0.018615998327732086, 0.9953007698059082, 0.004902959335595369, 0.160746231675148, 0.02172246389091015, 0.7190135717391968, 0.09775108844041824, 0.01712614670395851, 0.4395711123943329, 0.5423280000686646, 0.15768390893936157, 0.01314032543450594, 0.7884195446968079, 0.041063517332077026, 0.013608261942863464, 0.9593824744224548, 0.020412392914295197, 0.009575615637004375, 0.9958640933036804, 0.002694393740966916, 0.010777574963867664, 0.8217900991439819, 0.16705241799354553, 0.1713988482952118, 0.01112979557365179, 0.5253263115882874, 0.29160064458847046, 0.012110082432627678, 0.9930267333984375, 0.012094676494598389, 0.9917634129524231, 0.9977603554725647, 0.993059515953064, 0.007328852545469999, 0.7653948068618774, 0.04085737466812134, 0.1416388899087906, 0.05175267159938812, 0.015606054104864597, 0.015606054104864597, 0.9675753116607666, 0.011918729171156883, 0.9892544746398926, 0.9833799004554749, 0.016329186037182808, 0.13621161878108978, 0.00332223461009562, 0.5548131465911865, 0.30564558506011963, 0.3346841037273407, 0.023128574714064598, 0.02040756680071354, 0.4394429326057434, 0.18230760097503662, 0.026780812069773674, 0.9641092419624329, 0.030433937907218933, 0.9738860130310059, 0.02955099381506443, 0.03693874180316925, 0.9382440447807312, 0.9896983504295349, 0.012118755839765072, 0.031466733664274216, 0.9754687547683716, 0.016217991709709167, 0.9811885356903076, 0.02976166270673275, 0.952373206615448, 0.02976166270673275, 0.8031892776489258, 0.1535508930683136, 0.04252178594470024, 0.08413804322481155, 0.9255184531211853, 0.15366549789905548, 0.013047071173787117, 0.050738610327243805, 0.35806962847709656, 0.42475464940071106, 0.8197010159492493, 0.009657743386924267, 0.0712258592247963, 0.09899187088012695, 0.04696479067206383, 0.939295768737793, 0.854103684425354, 0.007782265543937683, 0.13618965446949005, 0.0019455663859844208, 0.02062682993710041, 0.8869536519050598, 0.08250731974840164, 0.02062682993710041, 0.027111832052469254, 0.9760259389877319, 0.18038463592529297, 0.0015550398966297507, 0.6764423847198486, 0.14150863885879517, 0.5820747017860413, 0.06823162734508514, 0.0033694629091769457, 0.34536993503570557, 0.0008423657272942364, 0.24688754975795746, 0.12010745704174042, 0.6272278428077698, 0.013791320845484734, 0.013791320845484734, 0.9378098249435425, 0.027582641690969467, 0.018651645630598068, 0.09325822442770004, 0.8766273260116577, 0.0477132648229599, 0.954265296459198, 0.4607773423194885, 0.0009973535779863596, 0.4168938100337982, 0.12167713791131973, 0.009340605698525906, 0.9807635545730591, 0.038323212414979935, 0.0066328635439276695, 0.01842462085187435, 0.582955002784729, 0.3544897139072418, 0.9912307262420654, 0.003555984701961279, 0.0044449809938669205, 0.026266366243362427, 0.9455891251564026, 0.026266366243362427, 0.012167710810899734, 0.985584557056427, 0.3697660565376282, 0.5976017117500305, 0.03237009048461914, 0.9904443621635437, 0.008185490034520626, 0.0013642484555020928, 0.04932868853211403, 0.9471108317375183, 0.006410979200154543, 0.9937018156051636, 0.013913187198340893, 0.9739230871200562, 0.09771978855133057, 0.007516906596720219, 0.8418935537338257, 0.04510144144296646, 0.3193646967411041, 0.006484562065452337, 0.019453685730695724, 0.5933374166488647, 0.06160334125161171, 0.14952309429645538, 0.6399081945419312, 0.020274318754673004, 0.11911161988973618, 0.07222726196050644, 0.9959806203842163, 0.009907251223921776, 0.9907251000404358, 0.8092947602272034, 0.01679302752017975, 0.023251883685588837, 0.1324065625667572, 0.018730685114860535, 0.14440208673477173, 0.43615326285362244, 0.42141833901405334, 0.027423912659287453, 0.9598369598388672, 0.08533789962530136, 0.8777612447738647, 0.024382255971431732, 0.012191127985715866, 0.030711619183421135, 0.04094882681965828, 0.2149813324213028, 0.716604471206665, 0.704578697681427, 0.013691364787518978, 0.22222137451171875, 0.058978185057640076, 0.23217347264289856, 0.019675718620419502, 0.007870287634432316, 0.7358718514442444, 0.003935143817216158, 0.014916562475264072, 0.005593711044639349, 0.6553964614868164, 0.32350295782089233, 0.010696004144847393, 0.973336398601532, 0.010696004144847393, 0.5793148279190063, 0.058320287615060806, 0.09331245720386505, 0.25855326652526855, 0.011664057150483131, 0.024966608732938766, 0.9736977219581604, 0.9845234751701355, 0.015504307113587856, 0.01208020281046629, 0.04832081124186516, 0.08456142246723175, 0.8576943874359131, 0.11802525818347931, 0.01967087760567665, 0.8360122442245483, 0.027047455310821533, 0.9037238359451294, 0.014546861872076988, 0.007273430936038494, 0.052732374519109726, 0.020001934841275215, 0.012223577126860619, 0.9901097416877747, 0.008729579858481884, 0.9864425659179688, 0.9960759878158569, 0.00866152998059988, 0.00833977572619915, 0.9924333095550537, 0.9226969480514526, 0.0051764207892119884, 0.0659993588924408, 0.00647052563726902, 0.1323423534631729, 0.18806543946266174, 0.682607889175415, 0.22914250195026398, 0.02392147108912468, 0.032734643667936325, 0.6081089377403259, 0.10701709985733032, 0.02920820191502571, 0.05918504297733307, 0.764025092124939, 0.14757828414440155, 0.9948251247406006, 0.5973356366157532, 0.025014055892825127, 0.004002248868346214, 0.33118608593940735, 0.042023614048957825, 0.2249544858932495, 0.01071211788803339, 0.7605603933334351, 0.9928340911865234, 0.006364321336150169, 0.015933020040392876, 0.03186604008078575, 0.9559811949729919, 0.025385964661836624, 0.9646666646003723, 0.36470291018486023, 0.005546812433749437, 0.011093624867498875, 0.5643881559371948, 0.054081421345472336, 0.14930427074432373, 0.5640383362770081, 0.2737244963645935, 0.046549029648303986, 0.9775295853614807, 0.03323375806212425, 0.24213165044784546, 0.7263949513435364, 0.022020958364009857, 0.9689221382141113, 0.042200688272714615, 0.9073147773742676, 0.042200688272714615, 0.9951803088188171, 0.005923692137002945, 0.9962639808654785, 0.9951072335243225, 0.003553954418748617, 0.11847325414419174, 0.032310888171195984, 0.023694651201367378, 0.7517666220664978, 0.07108394801616669, 0.9985595345497131, 0.0027508526109158993, 0.036911409348249435, 0.006151901558041573, 0.9596966505050659, 0.6454688310623169, 0.17304794490337372, 0.1574736386537552, 0.025957193225622177, 0.013776696287095547, 0.9781454205513, 0.04769352450966835, 0.9538704752922058, 0.9461995959281921, 0.052956026047468185, 0.0007787651265971363, 0.02197880670428276, 0.04395761340856552, 0.9231098890304565, 0.01554387528449297, 0.746105968952179, 0.03108775056898594, 0.21761424839496613, 0.9811993837356567, 0.01137622445821762, 0.00568811222910881, 0.015784164890646935, 0.03156832978129387, 0.9470499157905579, 0.8442736864089966, 0.1310984045267105, 0.024471702054142952, 0.09746439009904861, 0.23580095171928406, 0.6633866429328918, 0.19889965653419495, 0.44752421975135803, 0.2699352502822876, 0.08524271100759506, 0.0068327863700687885, 0.027331145480275154, 0.9702556729316711, 0.0076032234355807304, 0.9884190559387207, 0.01850520633161068, 0.9761495590209961, 0.2551306486129761, 0.0296663548797369, 0.6941927075386047, 0.01779981330037117, 0.0059332712553441525, 0.9900186061859131, 0.004950093105435371, 0.9622105956077576, 0.03399113565683365, 0.0026147025637328625, 0.5995640158653259, 0.061661943793296814, 0.25714343786239624, 0.08134128898382187, 0.030194034799933434, 0.9662091135978699, 0.4954337775707245, 0.06621004641056061, 0.01940639317035675, 0.4041095972061157, 0.014840182848274708, 0.006215497385710478, 0.9944795966148376, 0.9716913104057312, 0.007237923797219992, 0.01990429125726223, 0.001809480949304998, 0.9935428500175476, 0.004338615108281374, 0.042447950690984726, 0.9508340954780579, 0.008489590138196945, 0.004539212211966515, 0.9940875172615051, 0.6163970828056335, 0.3081985414028168, 0.07112273573875427, 0.16544316709041595, 0.27573859691619873, 0.014706059359014034, 0.17279618978500366, 0.36765146255493164, 0.9055910110473633, 0.010796912014484406, 0.06883031874895096, 0.01619536802172661, 0.027423912659287453, 0.9598369598388672, 0.9472432732582092, 0.005563837476074696, 0.04659713804721832, 0.000695479684509337, 0.02202095463871956, 0.968921959400177, 0.0477132648229599, 0.954265296459198, 0.013331880792975426, 0.013331880792975426, 0.973227322101593, 0.013331880792975426, 0.015427331440150738, 0.9873492121696472, 0.03757033124566078, 0.9768286347389221, 0.08331065624952316, 0.909172773361206, 0.0036222024355083704, 0.019650131464004517, 0.9825065732002258, 0.0014120963169261813, 0.996940016746521, 0.0014120963169261813, 0.19187337160110474, 0.10835202783346176, 0.2889387309551239, 0.41083475947380066, 0.028389522805809975, 0.9368542432785034, 0.0193758774548769, 0.0010764376493170857, 0.018299439921975136, 0.7728822231292725, 0.18837659060955048, 0.9980401992797852, 0.01458036806434393, 0.918563187122345, 0.07290184497833252, 0.1777420938014984, 0.016927819699048996, 0.45493513345718384, 0.34913626313209534, 0.5788931250572205, 0.017749082297086716, 0.03140222281217575, 0.3345019221305847, 0.036863476037979126, 0.04381715878844261, 0.014605718664824963, 0.9347659945487976, 0.021288873627781868, 0.9750304222106934, 0.0021288874559104443, 0.09002900123596191, 0.9002900123596191, 0.00826986413449049, 0.9923836588859558, 0.6581482887268066, 0.02827097475528717, 0.01583174616098404, 0.2001585066318512, 0.09725215286016464, 0.9944981336593628, 0.03962991014122963, 0.9511178731918335, 0.994395911693573, 0.9967464208602905, 0.3742673397064209, 0.012559306807816029, 0.020094890147447586, 0.29639965295791626, 0.29639965295791626, 0.01717083901166916, 0.9787378907203674, 0.01760927587747574, 0.9861194491386414, 0.03233054280281067, 0.9699162840843201, 0.03233054280281067, 0.9699162840843201, 0.014948823489248753, 0.9866223335266113, 0.06083206459879875, 0.6184593439102173, 0.31429898738861084, 0.02496800199151039, 0.9737520813941956, 0.0035298694856464863, 0.9954231977462769, 0.002413341775536537, 0.9967101812362671, 0.04318965598940849, 0.049834221601486206, 0.8737599849700928, 0.03322281315922737, 0.9952743053436279, 0.004130538087338209, 0.9954596757888794, 0.993796706199646, 0.003822294995188713, 0.4818689227104187, 0.009803280234336853, 0.019606560468673706, 0.4260656237602234, 0.06259017437696457, 0.013579531572759151, 0.7740333080291748, 0.2036929726600647, 0.013579531572759151, 0.009455017745494843, 0.009455017745494843, 0.9833218455314636, 0.012228621169924736, 0.99051833152771, 0.8253704309463501, 0.0033348300494253635, 0.15006735920906067, 0.020842688158154488, 0.9698936939239502, 0.00823688879609108, 0.0205922219902277], \"Term\": [\"aaaaaaaaaaaaaaaaaaaaaaaaaaaaaaaaaaaaaaaaaaaaaaaaaaaaaaaaaaaaaaaaaaaaaaaaaaaa\", \"aaaaaaaaaaaaaaaaaaaaaaaaaaaaaaaaaaaaaaaaaaaaaaaaaaaaaaaaaaaaaaaaaaaaaaaaaaaa\", \"addin\", \"addin\", \"adult\", \"adult\", \"afford\", \"agave\", \"agave\", \"aggies\", \"aggies\", \"aggressively\", \"alert\", \"alert\", \"alert\", \"alicia\", \"alicia\", \"align\", \"align\", \"also\", \"also\", \"also\", \"also\", \"amazon\", \"amazon\", \"amazon\", \"american\", \"american\", \"american\", \"archer\", \"archer\", \"astronomical\", \"attached\", \"attached\", \"attached\", \"attached\", \"audrey\", \"audrey\", \"backout\", \"backout\", \"bakernet\", \"bakernet\", \"bankrupt\", \"bankrupt\", \"barbo\", \"barbo\", \"baughman\", \"baughman\", \"baughman\", \"ben\", \"ben\", \"ben\", \"bergfelt\", \"bergfelt\", \"beth\", \"beth\", \"beth\", \"bgcolor\", \"bgcolor\", \"blair\", \"blair\", \"bodydefault\", \"bodydefault\", \"bolt\", \"bolt\", \"border\", \"border\", \"border\", \"br\", \"br\", \"br\", \"bradford\", \"bradford\", \"bt\", \"bt\", \"buchanan\", \"buchanan\", \"bush\", \"bush\", \"business\", \"business\", \"business\", \"business\", \"businessweek\", \"businessweek\", \"california\", \"california\", \"california\", \"call\", \"call\", \"call\", \"call\", \"cellpadding\", \"cellpadding\", \"cellspacing\", \"cellspacing\", \"center\", \"center\", \"center\", \"center\", \"cherry\", \"cherry\", \"cherry\", \"class\", \"class\", \"class\", \"class\", \"clear\", \"clear\", \"clear\", \"click\", \"click\", \"click\", \"click\", \"click\", \"colspan\", \"colspan\", \"commoditylogic\", \"commoditylogic\", \"company\", \"company\", \"company\", \"company\", \"company\", \"conference\", \"conference\", \"conference\", \"consumer\", \"consumer\", \"consumer\", \"consumer\", \"coords\", \"coords\", \"corp\", \"corp\", \"corp\", \"corp\", \"corp\", \"court\", \"court\", \"credit\", \"credit\", \"credit\", \"crisis\", \"crisis\", \"ct\", \"ct\", \"ct\", \"ctr\", \"ctr\", \"curve\", \"curve\", \"darrell\", \"darrell\", \"darrell\", \"day\", \"day\", \"day\", \"day\", \"day\", \"december\", \"december\", \"december\", \"december\", \"declared\", \"delta\", \"delta\", \"delta\", \"desk\", \"desk\", \"detected\", \"detected\", \"devastated\", \"development\", \"development\", \"deviation\", \"deviation\", \"devon\", \"devon\", \"donate\", \"dynegy\", \"dynegy\", \"dynegy\", \"e\", \"e\", \"e\", \"e\", \"e\", \"ecar\", \"ecar\", \"ee\", \"ee\", \"ee\", \"ee\", \"eix\", \"eix\", \"emailed\", \"emailed\", \"emailed\", \"employee\", \"employee\", \"employee\", \"employer\", \"ena\", \"ena\", \"end\", \"end\", \"end\", \"end\", \"energy\", \"energy\", \"energy\", \"energy\", \"energy\", \"enform\", \"enform\", \"enlarge\", \"enlarge\", \"enron\", \"enron\", \"enron\", \"enron\", \"enron\", \"enronxgate\", \"enronxgate\", \"epenergy\", \"epenergy\", \"euci\", \"euci\", \"exotica\", \"exotica\", \"f\", \"f\", \"f\", \"f\", \"f\", \"ffffff\", \"ffffff\", \"file\", \"file\", \"file\", \"file\", \"filet\", \"filet\", \"final\", \"final\", \"final\", \"fname\", \"fname\", \"font\", \"font\", \"font\", \"forwarded\", \"forwarded\", \"forwarded\", \"forwarded\", \"fran\", \"fran\", \"frcc\", \"frcc\", \"fri\", \"fri\", \"fri\", \"fri\", \"fund\", \"fund\", \"fund\", \"fw\", \"fw\", \"fw\", \"gas\", \"gas\", \"gas\", \"gas\", \"gas\", \"get\", \"get\", \"get\", \"get\", \"get\", \"gif\", \"gif\", \"gift\", \"gift\", \"gift\", \"go\", \"go\", \"go\", \"go\", \"go\", \"gorny\", \"gorny\", \"graf\", \"graf\", \"greg\", \"greg\", \"greg\", \"greg\", \"gregwhalley\", \"gregwhalley\", \"group\", \"group\", \"group\", \"group\", \"group\", \"hanagriff\", \"hanagriff\", \"harrison\", \"harrison\", \"headcount\", \"headcount\", \"height\", \"height\", \"hou\", \"hou\", \"hou\", \"hou\", \"hourahead\", \"hourahead\", \"hp\", \"hp\", \"hp\", \"href\", \"href\", \"hurt\", \"hurt\", \"id\", \"id\", \"id\", \"id\", \"id\", \"image\", \"image\", \"image\", \"image\", \"image\", \"img\", \"img\", \"impacted\", \"impacted\", \"income\", \"income\", \"intended\", \"intended\", \"intended\", \"interchange\", \"interchange\", \"investment\", \"investment\", \"investor\", \"investor\", \"january\", \"january\", \"january\", \"january\", \"jason\", \"jason\", \"jason\", \"john\", \"john\", \"john\", \"john\", \"kay\", \"kay\", \"kay\", \"kern\", \"kern\", \"kim\", \"kim\", \"kim\", \"kim\", \"know\", \"know\", \"know\", \"know\", \"kowalke\", \"kowalke\", \"krishna\", \"krishna\", \"labour\", \"largest\", \"largest\", \"last\", \"last\", \"last\", \"last\", \"laurel\", \"laurel\", \"laurel\", \"lavorato\", \"lavorato\", \"lay\", \"lay\", \"let\", \"let\", \"let\", \"let\", \"like\", \"like\", \"like\", \"like\", \"like\", \"linkbarseperator\", \"linkbarseperator\", \"locate\", \"locate\", \"log\", \"log\", \"log\", \"lost\", \"lost\", \"lover\", \"lover\", \"lynn\", \"lynn\", \"maac\", \"maac\", \"maac\", \"made\", \"made\", \"made\", \"mage\", \"mage\", \"mail\", \"mail\", \"mail\", \"mail\", \"mail\", \"mailto\", \"mailto\", \"mailto\", \"mailto\", \"mansoor\", \"mansoor\", \"many\", \"many\", \"many\", \"many\", \"map\", \"map\", \"map\", \"map\", \"mapp\", \"mapp\", \"mark\", \"mark\", \"mark\", \"mark\", \"market\", \"market\", \"market\", \"market\", \"market\", \"material\", \"material\", \"material\", \"matrix\", \"matrix\", \"matrix\", \"matrix\", \"matt\", \"matt\", \"matt\", \"mawhitt\", \"mawhitt\", \"may\", \"may\", \"may\", \"may\", \"mcconnell\", \"mcconnell\", \"message\", \"message\", \"message\", \"message\", \"message\", \"million\", \"million\", \"million\", \"min\", \"min\", \"min\", \"mmbtu\", \"mmbtu\", \"money\", \"money\", \"money\", \"mr\", \"mr\", \"mr\", \"na\", \"na\", \"nbsp\", \"nbsp\", \"nc\", \"nc\", \"ne\", \"ne\", \"ne\", \"ne\", \"need\", \"need\", \"need\", \"need\", \"need\", \"net\", \"net\", \"net\", \"net\", \"net\", \"netted\", \"neumin\", \"neumin\", \"new\", \"new\", \"new\", \"new\", \"new\", \"november\", \"november\", \"november\", \"npcc\", \"npcc\", \"nw\", \"nw\", \"nw\", \"nw\", \"ok\", \"ok\", \"ok\", \"ok\", \"one\", \"one\", \"one\", \"one\", \"option\", \"option\", \"option\", \"option\", \"option\", \"original\", \"original\", \"original\", \"original\", \"outage\", \"outage\", \"outage\", \"p\", \"p\", \"p\", \"p\", \"p\", \"parsing\", \"parsing\", \"partnership\", \"partnership\", \"password\", \"password\", \"password\", \"password\", \"paul\", \"paul\", \"paul\", \"paul\", \"pay\", \"pay\", \"pay\", \"pay\", \"pay\", \"pcg\", \"pcg\", \"pdx\", \"pdx\", \"pension\", \"pension\", \"pep\", \"pep\", \"plan\", \"plan\", \"plan\", \"plan\", \"play\", \"play\", \"play\", \"please\", \"please\", \"please\", \"please\", \"please\", \"pm\", \"pm\", \"pm\", \"pm\", \"pocketbook\", \"power\", \"power\", \"power\", \"power\", \"power\", \"preferred\", \"preferred\", \"preferred\", \"profit\", \"profit\", \"pseg\", \"pseg\", \"pseg\", \"pt\", \"pt\", \"question\", \"question\", \"question\", \"question\", \"question\", \"range\", \"range\", \"range\", \"realtime\", \"realtime\", \"recipient\", \"recipient\", \"recipient\", \"rect\", \"rect\", \"reg\", \"reg\", \"reg\", \"relief\", \"relief\", \"repair\", \"reported\", \"reported\", \"request\", \"request\", \"request\", \"request\", \"request\", \"retirement\", \"retirement\", \"rick\", \"rick\", \"rick\", \"right\", \"right\", \"right\", \"right\", \"rk\", \"rk\", \"russanboy\", \"russanboy\", \"said\", \"said\", \"said\", \"sample\", \"sample\", \"sample\", \"sat\", \"sat\", \"sat\", \"sat\", \"saving\", \"saving\", \"saving\", \"savita\", \"savita\", \"savita\", \"say\", \"say\", \"say\", \"schedule\", \"schedule\", \"schedule\", \"scheduled\", \"scheduled\", \"scheduled\", \"scheduled\", \"schoolcraft\", \"schoolcraft\", \"schoolcraft\", \"scoop\", \"scoop\", \"script\", \"script\", \"se\", \"se\", \"se\", \"se\", \"se\", \"sec\", \"sec\", \"security\", \"security\", \"security\", \"see\", \"see\", \"see\", \"see\", \"serc\", \"serc\", \"service\", \"service\", \"service\", \"service\", \"service\", \"sfs\", \"sfs\", \"share\", \"share\", \"share\", \"share\", \"sold\", \"sold\", \"sp\", \"sp\", \"sp\", \"src\", \"src\", \"standard\", \"standard\", \"standard\", \"start\", \"start\", \"start\", \"start\", \"start\", \"state\", \"state\", \"state\", \"state\", \"std\", \"std\", \"stock\", \"stock\", \"stock\", \"stock\", \"stocklookup\", \"stocklookup\", \"strick\", \"strick\", \"sw\", \"sw\", \"sw\", \"sw\", \"syncrasy\", \"syncrasy\", \"tab\", \"tab\", \"table\", \"table\", \"table\", \"tagline\", \"tagline\", \"td\", \"td\", \"td\", \"team\", \"team\", \"team\", \"team\", \"temp\", \"temp\", \"thanks\", \"thanks\", \"thanks\", \"thanks\", \"thanks\", \"thousand\", \"thru\", \"thru\", \"thru\", \"thursday\", \"thursday\", \"thursday\", \"thursday\", \"time\", \"time\", \"time\", \"time\", \"time\", \"tonight\", \"tonight\", \"tonight\", \"tr\", \"tr\", \"tr\", \"txt\", \"txt\", \"tyrell\", \"tyrell\", \"u\", \"u\", \"u\", \"u\", \"u\", \"underhanded\", \"underscore\", \"underscore\", \"urge\", \"urging\", \"use\", \"use\", \"use\", \"use\", \"use\", \"valign\", \"valign\", \"variance\", \"variance\", \"vegetarian\", \"vegetarian\", \"veggie\", \"veggie\", \"vladimir\", \"vladimir\", \"volatility\", \"volatility\", \"volatility\", \"westdesk\", \"westdesk\", \"whalley\", \"whalley\", \"width\", \"width\", \"williams\", \"williams\", \"williams\", \"williams\", \"wiped\", \"wj\", \"wj\", \"worker\", \"worker\", \"would\", \"would\", \"would\", \"would\", \"would\", \"wrap\", \"wrap\", \"wrap\", \"wrap\", \"wscc\", \"wscc\", \"wscc\", \"xll\", \"xll\", \"year\", \"year\", \"year\", \"year\", \"york\", \"york\", \"york\"]}, \"R\": 30, \"lambda.step\": 0.01, \"plot.opts\": {\"xlab\": \"PC1\", \"ylab\": \"PC2\"}, \"topic.order\": [1, 2, 3, 4, 5]};\n",
       "\n",
       "function LDAvis_load_lib(url, callback){\n",
       "  var s = document.createElement('script');\n",
       "  s.src = url;\n",
       "  s.async = true;\n",
       "  s.onreadystatechange = s.onload = callback;\n",
       "  s.onerror = function(){console.warn(\"failed to load library \" + url);};\n",
       "  document.getElementsByTagName(\"head\")[0].appendChild(s);\n",
       "}\n",
       "\n",
       "if(typeof(LDAvis) !== \"undefined\"){\n",
       "   // already loaded: just create the visualization\n",
       "   !function(LDAvis){\n",
       "       new LDAvis(\"#\" + \"ldavis_el35265227371472684911863\", ldavis_el35265227371472684911863_data);\n",
       "   }(LDAvis);\n",
       "}else if(typeof define === \"function\" && define.amd){\n",
       "   // require.js is available: use it to load d3/LDAvis\n",
       "   require.config({paths: {d3: \"https://cdnjs.cloudflare.com/ajax/libs/d3/3.5.5/d3.min\"}});\n",
       "   require([\"d3\"], function(d3){\n",
       "      window.d3 = d3;\n",
       "      LDAvis_load_lib(\"https://cdn.rawgit.com/bmabey/pyLDAvis/files/ldavis.v1.0.0.js\", function(){\n",
       "        new LDAvis(\"#\" + \"ldavis_el35265227371472684911863\", ldavis_el35265227371472684911863_data);\n",
       "      });\n",
       "    });\n",
       "}else{\n",
       "    // require.js not available: dynamically load d3 & LDAvis\n",
       "    LDAvis_load_lib(\"https://cdnjs.cloudflare.com/ajax/libs/d3/3.5.5/d3.min.js\", function(){\n",
       "         LDAvis_load_lib(\"https://cdn.rawgit.com/bmabey/pyLDAvis/files/ldavis.v1.0.0.js\", function(){\n",
       "                 new LDAvis(\"#\" + \"ldavis_el35265227371472684911863\", ldavis_el35265227371472684911863_data);\n",
       "            })\n",
       "         });\n",
       "}\n",
       "</script>"
      ],
      "text/plain": [
       "<IPython.core.display.HTML object>"
      ]
     },
     "execution_count": 10,
     "metadata": {},
     "output_type": "execute_result"
    }
   ],
   "source": [
    "import pyLDAvis.gensim\n",
    "\n",
    "lda_display = pyLDAvis.gensim.prepare(ldamodel, corpus,\n",
    "dictionary, sort_topics=False)\n",
    "\n",
    "pyLDAvis.display(lda_display)"
   ]
  }
 ],
 "metadata": {
  "kernelspec": {
   "display_name": "Python 3",
   "language": "python",
   "name": "python3"
  },
  "language_info": {
   "codemirror_mode": {
    "name": "ipython",
    "version": 3
   },
   "file_extension": ".py",
   "mimetype": "text/x-python",
   "name": "python",
   "nbconvert_exporter": "python",
   "pygments_lexer": "ipython3",
   "version": "3.7.6"
  }
 },
 "nbformat": 4,
 "nbformat_minor": 1
}
